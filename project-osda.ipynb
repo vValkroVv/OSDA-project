{
 "cells": [
  {
   "cell_type": "markdown",
   "metadata": {},
   "source": [
    "I choosed Titanic Dataset which contain information did the person survived or not in Titanic disaster with some additional information about each person.\n",
    "\n",
    "### Steps\n",
    "1. Choose a binary dataset\n",
    "2. Perform exploratory data analysis\n",
    "3. binarize  the features (data scaling)\n",
    "4. Split train-test and calculate metrics\n",
    "5. Compare the achieved performance with other standard classification methods\n",
    "<!-- 6. Improve classification -->\n",
    "<!-- 7. Report -->\n",
    "<!-- 8. Upload -->"
   ]
  },
  {
   "cell_type": "code",
   "execution_count": 1,
   "metadata": {
    "execution": {
     "iopub.execute_input": "2024-12-08T21:37:01.399424Z",
     "iopub.status.busy": "2024-12-08T21:37:01.398898Z",
     "iopub.status.idle": "2024-12-08T21:37:02.684600Z",
     "shell.execute_reply": "2024-12-08T21:37:02.683422Z",
     "shell.execute_reply.started": "2024-12-08T21:37:01.399366Z"
    }
   },
   "outputs": [],
   "source": [
    "### Import all dependencies\n",
    "import pandas as pd\n",
    "import numpy as np\n",
    "import matplotlib.pyplot as plt\n",
    "from sklearn.model_selection import train_test_split\n",
    "from sklearn.metrics import f1_score, accuracy_score, precision_score, recall_score"
   ]
  },
  {
   "cell_type": "markdown",
   "metadata": {},
   "source": [
    "### Step 1\n",
    "1. load and show dataset\n",
    "2. choose features columns for classification "
   ]
  },
  {
   "cell_type": "code",
   "execution_count": 2,
   "metadata": {
    "execution": {
     "iopub.execute_input": "2024-12-08T21:37:04.394936Z",
     "iopub.status.busy": "2024-12-08T21:37:04.394385Z",
     "iopub.status.idle": "2024-12-08T21:37:04.459109Z",
     "shell.execute_reply": "2024-12-08T21:37:04.457993Z",
     "shell.execute_reply.started": "2024-12-08T21:37:04.394901Z"
    }
   },
   "outputs": [
    {
     "data": {
      "text/html": [
       "<div>\n",
       "<style scoped>\n",
       "    .dataframe tbody tr th:only-of-type {\n",
       "        vertical-align: middle;\n",
       "    }\n",
       "\n",
       "    .dataframe tbody tr th {\n",
       "        vertical-align: top;\n",
       "    }\n",
       "\n",
       "    .dataframe thead th {\n",
       "        text-align: right;\n",
       "    }\n",
       "</style>\n",
       "<table border=\"1\" class=\"dataframe\">\n",
       "  <thead>\n",
       "    <tr style=\"text-align: right;\">\n",
       "      <th></th>\n",
       "      <th>PassengerId</th>\n",
       "      <th>Survived</th>\n",
       "      <th>Pclass</th>\n",
       "      <th>Name</th>\n",
       "      <th>Sex</th>\n",
       "      <th>Age</th>\n",
       "      <th>SibSp</th>\n",
       "      <th>Parch</th>\n",
       "      <th>Ticket</th>\n",
       "      <th>Fare</th>\n",
       "      <th>Cabin</th>\n",
       "      <th>Embarked</th>\n",
       "    </tr>\n",
       "  </thead>\n",
       "  <tbody>\n",
       "    <tr>\n",
       "      <th>375</th>\n",
       "      <td>376</td>\n",
       "      <td>1</td>\n",
       "      <td>1</td>\n",
       "      <td>Meyer, Mrs. Edgar Joseph (Leila Saks)</td>\n",
       "      <td>female</td>\n",
       "      <td>NaN</td>\n",
       "      <td>1</td>\n",
       "      <td>0</td>\n",
       "      <td>PC 17604</td>\n",
       "      <td>82.1708</td>\n",
       "      <td>NaN</td>\n",
       "      <td>C</td>\n",
       "    </tr>\n",
       "    <tr>\n",
       "      <th>882</th>\n",
       "      <td>883</td>\n",
       "      <td>0</td>\n",
       "      <td>3</td>\n",
       "      <td>Dahlberg, Miss. Gerda Ulrika</td>\n",
       "      <td>female</td>\n",
       "      <td>22.0</td>\n",
       "      <td>0</td>\n",
       "      <td>0</td>\n",
       "      <td>7552</td>\n",
       "      <td>10.5167</td>\n",
       "      <td>NaN</td>\n",
       "      <td>S</td>\n",
       "    </tr>\n",
       "    <tr>\n",
       "      <th>435</th>\n",
       "      <td>436</td>\n",
       "      <td>1</td>\n",
       "      <td>1</td>\n",
       "      <td>Carter, Miss. Lucile Polk</td>\n",
       "      <td>female</td>\n",
       "      <td>14.0</td>\n",
       "      <td>1</td>\n",
       "      <td>2</td>\n",
       "      <td>113760</td>\n",
       "      <td>120.0000</td>\n",
       "      <td>B96 B98</td>\n",
       "      <td>S</td>\n",
       "    </tr>\n",
       "    <tr>\n",
       "      <th>562</th>\n",
       "      <td>563</td>\n",
       "      <td>0</td>\n",
       "      <td>2</td>\n",
       "      <td>Norman, Mr. Robert Douglas</td>\n",
       "      <td>male</td>\n",
       "      <td>28.0</td>\n",
       "      <td>0</td>\n",
       "      <td>0</td>\n",
       "      <td>218629</td>\n",
       "      <td>13.5000</td>\n",
       "      <td>NaN</td>\n",
       "      <td>S</td>\n",
       "    </tr>\n",
       "    <tr>\n",
       "      <th>856</th>\n",
       "      <td>857</td>\n",
       "      <td>1</td>\n",
       "      <td>1</td>\n",
       "      <td>Wick, Mrs. George Dennick (Mary Hitchcock)</td>\n",
       "      <td>female</td>\n",
       "      <td>45.0</td>\n",
       "      <td>1</td>\n",
       "      <td>1</td>\n",
       "      <td>36928</td>\n",
       "      <td>164.8667</td>\n",
       "      <td>NaN</td>\n",
       "      <td>S</td>\n",
       "    </tr>\n",
       "  </tbody>\n",
       "</table>\n",
       "</div>"
      ],
      "text/plain": [
       "     PassengerId  Survived  Pclass  \\\n",
       "375          376         1       1   \n",
       "882          883         0       3   \n",
       "435          436         1       1   \n",
       "562          563         0       2   \n",
       "856          857         1       1   \n",
       "\n",
       "                                           Name     Sex   Age  SibSp  Parch  \\\n",
       "375       Meyer, Mrs. Edgar Joseph (Leila Saks)  female   NaN      1      0   \n",
       "882                Dahlberg, Miss. Gerda Ulrika  female  22.0      0      0   \n",
       "435                   Carter, Miss. Lucile Polk  female  14.0      1      2   \n",
       "562                  Norman, Mr. Robert Douglas    male  28.0      0      0   \n",
       "856  Wick, Mrs. George Dennick (Mary Hitchcock)  female  45.0      1      1   \n",
       "\n",
       "       Ticket      Fare    Cabin Embarked  \n",
       "375  PC 17604   82.1708      NaN        C  \n",
       "882      7552   10.5167      NaN        S  \n",
       "435    113760  120.0000  B96 B98        S  \n",
       "562    218629   13.5000      NaN        S  \n",
       "856     36928  164.8667      NaN        S  "
      ]
     },
     "execution_count": 2,
     "metadata": {},
     "output_type": "execute_result"
    }
   ],
   "source": [
    "df = pd.read_csv('/kaggle/input/fca-dataset/Titanic-Dataset.csv')\n",
    "df.sample(5)"
   ]
  },
  {
   "cell_type": "code",
   "execution_count": 3,
   "metadata": {
    "execution": {
     "iopub.execute_input": "2024-12-08T21:37:04.713164Z",
     "iopub.status.busy": "2024-12-08T21:37:04.712549Z",
     "iopub.status.idle": "2024-12-08T21:37:04.719767Z",
     "shell.execute_reply": "2024-12-08T21:37:04.718322Z",
     "shell.execute_reply.started": "2024-12-08T21:37:04.713106Z"
    }
   },
   "outputs": [],
   "source": [
    "# since there are a lot of values in Cabin categorical feature, let's choose main part of cabin\n",
    "def choose_letter_cabin(x):\n",
    "    return str(x)[0]"
   ]
  },
  {
   "cell_type": "code",
   "execution_count": 4,
   "metadata": {
    "execution": {
     "iopub.execute_input": "2024-12-08T21:37:05.214664Z",
     "iopub.status.busy": "2024-12-08T21:37:05.214248Z",
     "iopub.status.idle": "2024-12-08T21:37:05.222060Z",
     "shell.execute_reply": "2024-12-08T21:37:05.220811Z",
     "shell.execute_reply.started": "2024-12-08T21:37:05.214619Z"
    }
   },
   "outputs": [],
   "source": [
    "df['Cabin'] = df['Cabin'].apply(choose_letter_cabin)"
   ]
  },
  {
   "cell_type": "code",
   "execution_count": 5,
   "metadata": {
    "execution": {
     "iopub.execute_input": "2024-12-08T21:37:05.666592Z",
     "iopub.status.busy": "2024-12-08T21:37:05.666155Z",
     "iopub.status.idle": "2024-12-08T21:37:05.685009Z",
     "shell.execute_reply": "2024-12-08T21:37:05.683864Z",
     "shell.execute_reply.started": "2024-12-08T21:37:05.666556Z"
    }
   },
   "outputs": [
    {
     "data": {
      "text/html": [
       "<div>\n",
       "<style scoped>\n",
       "    .dataframe tbody tr th:only-of-type {\n",
       "        vertical-align: middle;\n",
       "    }\n",
       "\n",
       "    .dataframe tbody tr th {\n",
       "        vertical-align: top;\n",
       "    }\n",
       "\n",
       "    .dataframe thead th {\n",
       "        text-align: right;\n",
       "    }\n",
       "</style>\n",
       "<table border=\"1\" class=\"dataframe\">\n",
       "  <thead>\n",
       "    <tr style=\"text-align: right;\">\n",
       "      <th></th>\n",
       "      <th>Survived</th>\n",
       "      <th>Pclass</th>\n",
       "      <th>Sex</th>\n",
       "      <th>Age</th>\n",
       "      <th>SibSp</th>\n",
       "      <th>Parch</th>\n",
       "      <th>Fare</th>\n",
       "      <th>Cabin</th>\n",
       "      <th>Embarked</th>\n",
       "    </tr>\n",
       "  </thead>\n",
       "  <tbody>\n",
       "    <tr>\n",
       "      <th>137</th>\n",
       "      <td>0</td>\n",
       "      <td>1</td>\n",
       "      <td>male</td>\n",
       "      <td>37.0</td>\n",
       "      <td>1</td>\n",
       "      <td>0</td>\n",
       "      <td>53.1000</td>\n",
       "      <td>C</td>\n",
       "      <td>S</td>\n",
       "    </tr>\n",
       "    <tr>\n",
       "      <th>453</th>\n",
       "      <td>1</td>\n",
       "      <td>1</td>\n",
       "      <td>male</td>\n",
       "      <td>49.0</td>\n",
       "      <td>1</td>\n",
       "      <td>0</td>\n",
       "      <td>89.1042</td>\n",
       "      <td>C</td>\n",
       "      <td>C</td>\n",
       "    </tr>\n",
       "    <tr>\n",
       "      <th>255</th>\n",
       "      <td>1</td>\n",
       "      <td>3</td>\n",
       "      <td>female</td>\n",
       "      <td>29.0</td>\n",
       "      <td>0</td>\n",
       "      <td>2</td>\n",
       "      <td>15.2458</td>\n",
       "      <td>n</td>\n",
       "      <td>C</td>\n",
       "    </tr>\n",
       "    <tr>\n",
       "      <th>845</th>\n",
       "      <td>0</td>\n",
       "      <td>3</td>\n",
       "      <td>male</td>\n",
       "      <td>42.0</td>\n",
       "      <td>0</td>\n",
       "      <td>0</td>\n",
       "      <td>7.5500</td>\n",
       "      <td>n</td>\n",
       "      <td>S</td>\n",
       "    </tr>\n",
       "    <tr>\n",
       "      <th>45</th>\n",
       "      <td>0</td>\n",
       "      <td>3</td>\n",
       "      <td>male</td>\n",
       "      <td>NaN</td>\n",
       "      <td>0</td>\n",
       "      <td>0</td>\n",
       "      <td>8.0500</td>\n",
       "      <td>n</td>\n",
       "      <td>S</td>\n",
       "    </tr>\n",
       "  </tbody>\n",
       "</table>\n",
       "</div>"
      ],
      "text/plain": [
       "     Survived  Pclass     Sex   Age  SibSp  Parch     Fare Cabin Embarked\n",
       "137         0       1    male  37.0      1      0  53.1000     C        S\n",
       "453         1       1    male  49.0      1      0  89.1042     C        C\n",
       "255         1       3  female  29.0      0      2  15.2458     n        C\n",
       "845         0       3    male  42.0      0      0   7.5500     n        S\n",
       "45          0       3    male   NaN      0      0   8.0500     n        S"
      ]
     },
     "execution_count": 5,
     "metadata": {},
     "output_type": "execute_result"
    }
   ],
   "source": [
    "### we will drop PassengerId, Name and Ticket since those columns do not contain relevent information\n",
    "df = df[['Survived','Pclass','Sex','Age','SibSp','Parch','Fare','Cabin','Embarked']]\n",
    "df.sample(5)"
   ]
  },
  {
   "cell_type": "markdown",
   "metadata": {},
   "source": [
    "### Step 2\n",
    "1. Split features on 3 tips: binary, categorical, numerical\n",
    "2. Vizualize and describe the data"
   ]
  },
  {
   "cell_type": "code",
   "execution_count": 6,
   "metadata": {
    "execution": {
     "iopub.execute_input": "2024-12-08T21:37:06.506494Z",
     "iopub.status.busy": "2024-12-08T21:37:06.506108Z",
     "iopub.status.idle": "2024-12-08T21:37:06.512396Z",
     "shell.execute_reply": "2024-12-08T21:37:06.511079Z",
     "shell.execute_reply.started": "2024-12-08T21:37:06.506461Z"
    }
   },
   "outputs": [],
   "source": [
    "target = 'Survived'\n",
    "binary_features = ['Sex']\n",
    "categorical_features = ['Pclass','SibSp','Parch','Cabin','Embarked']\n",
    "numerical_features = ['Age','Fare']"
   ]
  },
  {
   "cell_type": "code",
   "execution_count": 11,
   "metadata": {
    "execution": {
     "iopub.execute_input": "2024-12-08T21:46:12.947728Z",
     "iopub.status.busy": "2024-12-08T21:46:12.947317Z",
     "iopub.status.idle": "2024-12-08T21:46:12.958597Z",
     "shell.execute_reply": "2024-12-08T21:46:12.957248Z",
     "shell.execute_reply.started": "2024-12-08T21:46:12.947690Z"
    }
   },
   "outputs": [],
   "source": [
    "def vizualize_categorical(df, target, categorical_features):\n",
    "    n = len(categorical_features)\n",
    "    fig = plt.figure(figsize=(12, n*6))\n",
    "\n",
    "    # fig = plt.figure()\n",
    "    arr_ax = []\n",
    "    for i in range(n*2):\n",
    "        arr_ax.append(fig.add_subplot(100*n+20+i+1))\n",
    "\n",
    "    df_pos = df[df[target]==1]\n",
    "    df_neg = df[df[target]==0]\n",
    "\n",
    "    for i in range(n):\n",
    "        \n",
    "        value_counts_names = list(df_pos[categorical_features[i]].value_counts().index)\n",
    "        value_counts_values  = list(df_pos[categorical_features[i]].value_counts())\n",
    "        value_counts_names, list2 = zip(*sorted(zip(value_counts_names, value_counts_values)))\n",
    "\n",
    "        arr_ax[i*2].bar(value_counts_names, value_counts_values)\n",
    "        arr_ax[i*2].set_xlabel(categorical_features[i])\n",
    "        arr_ax[i*2].set_ylabel('count')\n",
    "        arr_ax[i*2].title.set_text(f'Distribution of {categorical_features[i]} with target==1')\n",
    "\n",
    "        value_counts_names = list(df_neg[categorical_features[i]].value_counts().index)\n",
    "        value_counts_values  = list(df_neg[categorical_features[i]].value_counts())\n",
    "        value_counts_names, list2 = zip(*sorted(zip(value_counts_names, value_counts_values)))\n",
    "\n",
    "        arr_ax[i*2+1].bar(value_counts_names, value_counts_values)\n",
    "        arr_ax[i*2+1].set_xlabel(categorical_features[i])\n",
    "        arr_ax[i*2+1].set_ylabel('count')\n",
    "        arr_ax[i*2+1].title.set_text(f'Distribution of {categorical_features[i]} with target==0')\n",
    "    plt.show()\n",
    "        "
   ]
  },
  {
   "cell_type": "code",
   "execution_count": 8,
   "metadata": {
    "execution": {
     "iopub.execute_input": "2024-12-08T21:37:07.502715Z",
     "iopub.status.busy": "2024-12-08T21:37:07.502251Z",
     "iopub.status.idle": "2024-12-08T21:37:07.959896Z",
     "shell.execute_reply": "2024-12-08T21:37:07.958748Z",
     "shell.execute_reply.started": "2024-12-08T21:37:07.502676Z"
    }
   },
   "outputs": [
    {
     "data": {
      "image/png": "[encoded data removed]",
      "text/plain": [
       "<Figure size 1200x600 with 2 Axes>"
      ]
     },
     "metadata": {},
     "output_type": "display_data"
    }
   ],
   "source": [
    "vizualize_categorical(df, target, binary_features)"
   ]
  },
  {
   "cell_type": "markdown",
   "metadata": {},
   "source": [
    "## Feature: Sex: the gender of the passenger\n",
    "\n",
    "As we can see with target equal to 1 (passenger survived) there is higher propabaility to be male, comared to 0 target. So if passenger is male statistically he has a higher chance to survive"
   ]
  },
  {
   "cell_type": "code",
   "execution_count": 9,
   "metadata": {
    "execution": {
     "iopub.execute_input": "2024-12-08T21:37:11.203223Z",
     "iopub.status.busy": "2024-12-08T21:37:11.201952Z",
     "iopub.status.idle": "2024-12-08T21:37:11.661728Z",
     "shell.execute_reply": "2024-12-08T21:37:11.660546Z",
     "shell.execute_reply.started": "2024-12-08T21:37:11.203177Z"
    }
   },
   "outputs": [
    {
     "data": {
      "image/png": "[encoded data removed]",
      "text/plain": [
       "<Figure size 1200x600 with 2 Axes>"
      ]
     },
     "metadata": {},
     "output_type": "display_data"
    }
   ],
   "source": [
    "vizualize_categorical(df, target, categorical_features[0:1])"
   ]
  },
  {
   "cell_type": "markdown",
   "metadata": {},
   "source": [
    "## Feature: Pclass: Ticket class: 1 = 1st, 2 = 2nd, 3 = 3rd\n",
    "\n",
    "As we can see with target equal to 1 (passenger survived) there is higher with 2 and 3 class, comared to 0 target. So if passenger has 2 and 3 class statistically he/she has a higher chance to survive"
   ]
  },
  {
   "cell_type": "code",
   "execution_count": 10,
   "metadata": {
    "execution": {
     "iopub.execute_input": "2024-12-08T16:10:38.090214Z",
     "iopub.status.busy": "2024-12-08T16:10:38.089819Z",
     "iopub.status.idle": "2024-12-08T16:10:38.538196Z",
     "shell.execute_reply": "2024-12-08T16:10:38.537096Z",
     "shell.execute_reply.started": "2024-12-08T16:10:38.090179Z"
    }
   },
   "outputs": [
    {
     "data": {
      "image/png": "[encoded data removed]",
      "text/plain": [
       "<Figure size 1200x600 with 2 Axes>"
      ]
     },
     "metadata": {},
     "output_type": "display_data"
    }
   ],
   "source": [
    "vizualize_categorical(df, target, categorical_features[1:2])"
   ]
  },
  {
   "cell_type": "markdown",
   "metadata": {},
   "source": [
    "## Feature: SibSp: No. of siblings / spouses aboard the Titanic\n",
    "\n",
    "Feature shows number of siblings aboard. From bars above we can conclude that in survived people there are relatively more persons with non zero numer of siblings"
   ]
  },
  {
   "cell_type": "code",
   "execution_count": 11,
   "metadata": {
    "execution": {
     "iopub.execute_input": "2024-12-08T17:49:01.809025Z",
     "iopub.status.busy": "2024-12-08T17:49:01.808196Z",
     "iopub.status.idle": "2024-12-08T17:49:02.267438Z",
     "shell.execute_reply": "2024-12-08T17:49:02.266101Z",
     "shell.execute_reply.started": "2024-12-08T17:49:01.808935Z"
    }
   },
   "outputs": [
    {
     "data": {
      "image/png": "[encoded data removed]",
      "text/plain": [
       "<Figure size 1200x600 with 2 Axes>"
      ]
     },
     "metadata": {},
     "output_type": "display_data"
    }
   ],
   "source": [
    "vizualize_categorical(df, target, categorical_features[2:3])"
   ]
  },
  {
   "cell_type": "markdown",
   "metadata": {},
   "source": [
    "## Feature: Parch: No. of parents / children aboard the Titanic\n",
    "\n",
    "Feature shows number of parents / children aboard. From bars above we can conclude that in survived people there are relatively more persons with non zero numer of parents / children aboard."
   ]
  },
  {
   "cell_type": "code",
   "execution_count": 12,
   "metadata": {
    "execution": {
     "iopub.execute_input": "2024-12-08T18:02:38.348271Z",
     "iopub.status.busy": "2024-12-08T18:02:38.347817Z",
     "iopub.status.idle": "2024-12-08T18:02:38.797969Z",
     "shell.execute_reply": "2024-12-08T18:02:38.796690Z",
     "shell.execute_reply.started": "2024-12-08T18:02:38.348211Z"
    }
   },
   "outputs": [
    {
     "data": {
      "image/png": "[encoded data removed]",
      "text/plain": [
       "<Figure size 1200x600 with 2 Axes>"
      ]
     },
     "metadata": {},
     "output_type": "display_data"
    }
   ],
   "source": [
    "vizualize_categorical(df, target, categorical_features[3:4])"
   ]
  },
  {
   "cell_type": "markdown",
   "metadata": {},
   "source": [
    "## Feature: Cabin: Main part of Cabin (letter)\n",
    "\n",
    "Feature shows the main letter of the cabin (cabins with equal letter located nearly). From bars above we can conclude that with cabins different from A there more chance to survive. "
   ]
  },
  {
   "cell_type": "code",
   "execution_count": 12,
   "metadata": {
    "execution": {
     "iopub.execute_input": "2024-12-08T21:46:15.992749Z",
     "iopub.status.busy": "2024-12-08T21:46:15.992351Z",
     "iopub.status.idle": "2024-12-08T21:46:16.304505Z",
     "shell.execute_reply": "2024-12-08T21:46:16.303347Z",
     "shell.execute_reply.started": "2024-12-08T21:46:15.992714Z"
    }
   },
   "outputs": [
    {
     "data": {
      "image/png": "[encoded data removed]",
      "text/plain": [
       "<Figure size 1200x600 with 2 Axes>"
      ]
     },
     "metadata": {},
     "output_type": "display_data"
    }
   ],
   "source": [
    "vizualize_categorical(df, target, categorical_features[4:5])"
   ]
  },
  {
   "cell_type": "markdown",
   "metadata": {},
   "source": [
    "## Feature: Embarked: Port of Embarkation:C = Cherbourg, Q = Queenstown, S = Southampton\n",
    "\n",
    "Feature shows the Port of Embarkation. From bars above we can conclude that passengers from Queenstown statistically hac more chance to survive. "
   ]
  },
  {
   "cell_type": "code",
   "execution_count": 14,
   "metadata": {
    "execution": {
     "iopub.execute_input": "2024-12-08T21:49:33.113808Z",
     "iopub.status.busy": "2024-12-08T21:49:33.113294Z",
     "iopub.status.idle": "2024-12-08T21:49:33.124656Z",
     "shell.execute_reply": "2024-12-08T21:49:33.123313Z",
     "shell.execute_reply.started": "2024-12-08T21:49:33.113772Z"
    }
   },
   "outputs": [],
   "source": [
    "def vizualize_numerical(df, target, numerical_features, apply_log):\n",
    "    n = len(numerical_features)\n",
    "    fig = plt.figure(figsize=(12, n*6))\n",
    "\n",
    "    # fig = plt.figure()\n",
    "    arr_ax = []\n",
    "    for i in range(n*2):\n",
    "        # print(100*n+20+i+1)\n",
    "        arr_ax.append(fig.add_subplot(100*n+20+i+1))\n",
    "\n",
    "    df_pos = df[df[target]==1]\n",
    "    df_neg = df[df[target]==0]\n",
    "\n",
    "    for i in range(n):\n",
    "        # value_counts_names = list(df_pos[categorical_features[i]].value_counts().index)\n",
    "        # value_counts_values  = list(df_pos[categorical_features[i]].value_counts())\n",
    "        if apply_log[i]:\n",
    "            values = np.log(1+np.array(df_pos[numerical_features[i]]))\n",
    "        else:\n",
    "            values = np.array(df_pos[numerical_features[i]])\n",
    "        \n",
    "        arr_ax[i*2].hist(values,bins=30,density=True)\n",
    "        arr_ax[i*2].set_xlabel(numerical_features[i])\n",
    "        arr_ax[i*2].set_ylabel('count')\n",
    "        arr_ax[i*2].title.set_text(f'Distribution of {numerical_features[i]} with target==1')\n",
    "\n",
    "        # value_counts_names = list(df_neg[categorical_features[i]].value_counts().index)\n",
    "        # value_counts_values  = list(df_neg[categorical_features[i]].value_counts())\n",
    "\n",
    "        if apply_log[i]:\n",
    "            values = np.log(1+np.array(df_neg[numerical_features[i]]))\n",
    "        else:\n",
    "            values = np.array(df_neg[numerical_features[i]])\n",
    "            \n",
    "        # values = np.array(df_neg[numerical_features[i]])\n",
    "        \n",
    "        arr_ax[i*2+1].hist(values,bins=30,density=True)\n",
    "        arr_ax[i*2+1].set_xlabel(numerical_features[i])\n",
    "        arr_ax[i*2+1].set_ylabel('count')\n",
    "        arr_ax[i*2+1].title.set_text(f'Distribution of {numerical_features[i]} with target==0')\n",
    "    plt.show()\n",
    "        "
   ]
  },
  {
   "cell_type": "code",
   "execution_count": 15,
   "metadata": {
    "execution": {
     "iopub.execute_input": "2024-12-08T21:49:33.292829Z",
     "iopub.status.busy": "2024-12-08T21:49:33.292377Z",
     "iopub.status.idle": "2024-12-08T21:49:33.756544Z",
     "shell.execute_reply": "2024-12-08T21:49:33.755517Z",
     "shell.execute_reply.started": "2024-12-08T21:49:33.292792Z"
    }
   },
   "outputs": [
    {
     "data": {
      "image/png": "[encoded data removed]",
      "text/plain": [
       "<Figure size 1200x600 with 2 Axes>"
      ]
     },
     "metadata": {},
     "output_type": "display_data"
    }
   ],
   "source": [
    "vizualize_numerical(df, target, numerical_features[0:1], [False])"
   ]
  },
  {
   "cell_type": "markdown",
   "metadata": {},
   "source": [
    "## Feature: Age: Age in Years\n",
    "\n",
    "Feature shows the Age in Years of passengers. From bars above we can conclude that passengers from 0 to 10 years has more chance to survive."
   ]
  },
  {
   "cell_type": "code",
   "execution_count": 16,
   "metadata": {
    "execution": {
     "iopub.execute_input": "2024-12-08T21:58:53.158474Z",
     "iopub.status.busy": "2024-12-08T21:58:53.157471Z",
     "iopub.status.idle": "2024-12-08T21:58:53.851139Z",
     "shell.execute_reply": "2024-12-08T21:58:53.849796Z",
     "shell.execute_reply.started": "2024-12-08T21:58:53.158409Z"
    }
   },
   "outputs": [
    {
     "data": {
      "image/png": "[encoded data removed]",
      "text/plain": [
       "<Figure size 1200x600 with 2 Axes>"
      ]
     },
     "metadata": {},
     "output_type": "display_data"
    }
   ],
   "source": [
    "vizualize_numerical(df, target, numerical_features[1:2], [True])"
   ]
  },
  {
   "cell_type": "markdown",
   "metadata": {},
   "source": [
    "## Feature: Fare: Passenger fare\n",
    "\n",
    "Feature shows the Fare which passengers paid for trip. I have applayed log transformation to get distridution close to normal one."
   ]
  },
  {
   "cell_type": "markdown",
   "metadata": {},
   "source": [
    "### Step 3\n",
    "1. Prepare nominal scales features (with more than 2 possible values) ('Pclass','SibSp','Parch','Cabin','Embarked')\n",
    "2. Prepare ordinal scales features (for numerical features) ('Age','Fare')\n",
    "3. prepare dichotomic scale features  ('Sex')"
   ]
  },
  {
   "cell_type": "code",
   "execution_count": 17,
   "metadata": {
    "execution": {
     "iopub.execute_input": "2024-12-08T21:59:59.478093Z",
     "iopub.status.busy": "2024-12-08T21:59:59.477683Z",
     "iopub.status.idle": "2024-12-08T21:59:59.485596Z",
     "shell.execute_reply": "2024-12-08T21:59:59.484339Z",
     "shell.execute_reply.started": "2024-12-08T21:59:59.478058Z"
    }
   },
   "outputs": [],
   "source": [
    "def create_nominal_scale_features(df,features):\n",
    "    arr_df = []\n",
    "    for i in range(len(features)):\n",
    "        df_cur = df[[features[i]]].copy()\n",
    "        values = np.unique(df_cur[features[i]].astype(str))\n",
    "        # print(values)\n",
    "        for value in values:\n",
    "            df_cur[f'{features[i]}=={value}'] = np.array(df_cur[features[i]].astype(str)==value)\n",
    "        df_cur = df_cur.drop([features[i]],axis=1)\n",
    "        arr_df.append(df_cur)\n",
    "        \n",
    "    return pd.concat(arr_df,axis=1).reset_index()"
   ]
  },
  {
   "cell_type": "code",
   "execution_count": 18,
   "metadata": {
    "execution": {
     "iopub.execute_input": "2024-12-08T22:00:00.590006Z",
     "iopub.status.busy": "2024-12-08T22:00:00.589395Z",
     "iopub.status.idle": "2024-12-08T22:00:00.662348Z",
     "shell.execute_reply": "2024-12-08T22:00:00.660378Z",
     "shell.execute_reply.started": "2024-12-08T22:00:00.589962Z"
    }
   },
   "outputs": [
    {
     "data": {
      "text/html": [
       "<div>\n",
       "<style scoped>\n",
       "    .dataframe tbody tr th:only-of-type {\n",
       "        vertical-align: middle;\n",
       "    }\n",
       "\n",
       "    .dataframe tbody tr th {\n",
       "        vertical-align: top;\n",
       "    }\n",
       "\n",
       "    .dataframe thead th {\n",
       "        text-align: right;\n",
       "    }\n",
       "</style>\n",
       "<table border=\"1\" class=\"dataframe\">\n",
       "  <thead>\n",
       "    <tr style=\"text-align: right;\">\n",
       "      <th></th>\n",
       "      <th>index</th>\n",
       "      <th>Pclass==1</th>\n",
       "      <th>Pclass==2</th>\n",
       "      <th>Pclass==3</th>\n",
       "      <th>SibSp==0</th>\n",
       "      <th>SibSp==1</th>\n",
       "      <th>SibSp==2</th>\n",
       "      <th>SibSp==3</th>\n",
       "      <th>SibSp==4</th>\n",
       "      <th>SibSp==5</th>\n",
       "      <th>...</th>\n",
       "      <th>Cabin==D</th>\n",
       "      <th>Cabin==E</th>\n",
       "      <th>Cabin==F</th>\n",
       "      <th>Cabin==G</th>\n",
       "      <th>Cabin==T</th>\n",
       "      <th>Cabin==n</th>\n",
       "      <th>Embarked==C</th>\n",
       "      <th>Embarked==Q</th>\n",
       "      <th>Embarked==S</th>\n",
       "      <th>Embarked==nan</th>\n",
       "    </tr>\n",
       "  </thead>\n",
       "  <tbody>\n",
       "    <tr>\n",
       "      <th>571</th>\n",
       "      <td>571</td>\n",
       "      <td>True</td>\n",
       "      <td>False</td>\n",
       "      <td>False</td>\n",
       "      <td>False</td>\n",
       "      <td>False</td>\n",
       "      <td>True</td>\n",
       "      <td>False</td>\n",
       "      <td>False</td>\n",
       "      <td>False</td>\n",
       "      <td>...</td>\n",
       "      <td>False</td>\n",
       "      <td>False</td>\n",
       "      <td>False</td>\n",
       "      <td>False</td>\n",
       "      <td>False</td>\n",
       "      <td>False</td>\n",
       "      <td>False</td>\n",
       "      <td>False</td>\n",
       "      <td>True</td>\n",
       "      <td>False</td>\n",
       "    </tr>\n",
       "    <tr>\n",
       "      <th>521</th>\n",
       "      <td>521</td>\n",
       "      <td>False</td>\n",
       "      <td>False</td>\n",
       "      <td>True</td>\n",
       "      <td>True</td>\n",
       "      <td>False</td>\n",
       "      <td>False</td>\n",
       "      <td>False</td>\n",
       "      <td>False</td>\n",
       "      <td>False</td>\n",
       "      <td>...</td>\n",
       "      <td>False</td>\n",
       "      <td>False</td>\n",
       "      <td>False</td>\n",
       "      <td>False</td>\n",
       "      <td>False</td>\n",
       "      <td>True</td>\n",
       "      <td>False</td>\n",
       "      <td>False</td>\n",
       "      <td>True</td>\n",
       "      <td>False</td>\n",
       "    </tr>\n",
       "    <tr>\n",
       "      <th>181</th>\n",
       "      <td>181</td>\n",
       "      <td>False</td>\n",
       "      <td>True</td>\n",
       "      <td>False</td>\n",
       "      <td>True</td>\n",
       "      <td>False</td>\n",
       "      <td>False</td>\n",
       "      <td>False</td>\n",
       "      <td>False</td>\n",
       "      <td>False</td>\n",
       "      <td>...</td>\n",
       "      <td>False</td>\n",
       "      <td>False</td>\n",
       "      <td>False</td>\n",
       "      <td>False</td>\n",
       "      <td>False</td>\n",
       "      <td>True</td>\n",
       "      <td>True</td>\n",
       "      <td>False</td>\n",
       "      <td>False</td>\n",
       "      <td>False</td>\n",
       "    </tr>\n",
       "    <tr>\n",
       "      <th>433</th>\n",
       "      <td>433</td>\n",
       "      <td>False</td>\n",
       "      <td>False</td>\n",
       "      <td>True</td>\n",
       "      <td>True</td>\n",
       "      <td>False</td>\n",
       "      <td>False</td>\n",
       "      <td>False</td>\n",
       "      <td>False</td>\n",
       "      <td>False</td>\n",
       "      <td>...</td>\n",
       "      <td>False</td>\n",
       "      <td>False</td>\n",
       "      <td>False</td>\n",
       "      <td>False</td>\n",
       "      <td>False</td>\n",
       "      <td>True</td>\n",
       "      <td>False</td>\n",
       "      <td>False</td>\n",
       "      <td>True</td>\n",
       "      <td>False</td>\n",
       "    </tr>\n",
       "    <tr>\n",
       "      <th>430</th>\n",
       "      <td>430</td>\n",
       "      <td>True</td>\n",
       "      <td>False</td>\n",
       "      <td>False</td>\n",
       "      <td>True</td>\n",
       "      <td>False</td>\n",
       "      <td>False</td>\n",
       "      <td>False</td>\n",
       "      <td>False</td>\n",
       "      <td>False</td>\n",
       "      <td>...</td>\n",
       "      <td>False</td>\n",
       "      <td>False</td>\n",
       "      <td>False</td>\n",
       "      <td>False</td>\n",
       "      <td>False</td>\n",
       "      <td>False</td>\n",
       "      <td>False</td>\n",
       "      <td>False</td>\n",
       "      <td>True</td>\n",
       "      <td>False</td>\n",
       "    </tr>\n",
       "  </tbody>\n",
       "</table>\n",
       "<p>5 rows × 31 columns</p>\n",
       "</div>"
      ],
      "text/plain": [
       "     index  Pclass==1  Pclass==2  Pclass==3  SibSp==0  SibSp==1  SibSp==2  \\\n",
       "571    571       True      False      False     False     False      True   \n",
       "521    521      False      False       True      True     False     False   \n",
       "181    181      False       True      False      True     False     False   \n",
       "433    433      False      False       True      True     False     False   \n",
       "430    430       True      False      False      True     False     False   \n",
       "\n",
       "     SibSp==3  SibSp==4  SibSp==5  ...  Cabin==D  Cabin==E  Cabin==F  \\\n",
       "571     False     False     False  ...     False     False     False   \n",
       "521     False     False     False  ...     False     False     False   \n",
       "181     False     False     False  ...     False     False     False   \n",
       "433     False     False     False  ...     False     False     False   \n",
       "430     False     False     False  ...     False     False     False   \n",
       "\n",
       "     Cabin==G  Cabin==T  Cabin==n  Embarked==C  Embarked==Q  Embarked==S  \\\n",
       "571     False     False     False        False        False         True   \n",
       "521     False     False      True        False        False         True   \n",
       "181     False     False      True         True        False        False   \n",
       "433     False     False      True        False        False         True   \n",
       "430     False     False     False        False        False         True   \n",
       "\n",
       "     Embarked==nan  \n",
       "571          False  \n",
       "521          False  \n",
       "181          False  \n",
       "433          False  \n",
       "430          False  \n",
       "\n",
       "[5 rows x 31 columns]"
      ]
     },
     "execution_count": 18,
     "metadata": {},
     "output_type": "execute_result"
    }
   ],
   "source": [
    "df_nominal = create_nominal_scale_features(df,categorical_features)\n",
    "df_nominal.sample(5)"
   ]
  },
  {
   "cell_type": "code",
   "execution_count": 19,
   "metadata": {
    "execution": {
     "iopub.execute_input": "2024-12-08T22:00:01.106268Z",
     "iopub.status.busy": "2024-12-08T22:00:01.105861Z",
     "iopub.status.idle": "2024-12-08T22:00:01.114946Z",
     "shell.execute_reply": "2024-12-08T22:00:01.113494Z",
     "shell.execute_reply.started": "2024-12-08T22:00:01.106217Z"
    }
   },
   "outputs": [],
   "source": [
    "def create_ordinal_scale_features(df, features, bounds, apply_log):\n",
    "    arr_df = []\n",
    "    for i in range(len(features)):\n",
    "        df_cur = df[[features[i]]].copy()\n",
    "        df_cur = df_cur.fillna(0).astype(float)\n",
    "        if apply_log[i]:\n",
    "            df_cur[features[i]] = np.log(1+np.array(df_cur[features[i]]))\n",
    "        else:\n",
    "            df_cur[features[i]] = np.array(df_cur[features[i]])\n",
    "            \n",
    "        for bound in bounds[i]:\n",
    "            df_cur[f'{features[i]}<={bound}'] = np.array(df_cur[features[i]]<=bound)\n",
    "        df_cur = df_cur.drop([features[i]],axis=1)\n",
    "        arr_df.append(df_cur)\n",
    "        \n",
    "    return pd.concat(arr_df,axis=1).reset_index()"
   ]
  },
  {
   "cell_type": "code",
   "execution_count": 20,
   "metadata": {
    "execution": {
     "iopub.execute_input": "2024-12-08T22:00:01.689727Z",
     "iopub.status.busy": "2024-12-08T22:00:01.689274Z",
     "iopub.status.idle": "2024-12-08T22:00:01.724818Z",
     "shell.execute_reply": "2024-12-08T22:00:01.723451Z",
     "shell.execute_reply.started": "2024-12-08T22:00:01.689654Z"
    }
   },
   "outputs": [
    {
     "data": {
      "text/html": [
       "<div>\n",
       "<style scoped>\n",
       "    .dataframe tbody tr th:only-of-type {\n",
       "        vertical-align: middle;\n",
       "    }\n",
       "\n",
       "    .dataframe tbody tr th {\n",
       "        vertical-align: top;\n",
       "    }\n",
       "\n",
       "    .dataframe thead th {\n",
       "        text-align: right;\n",
       "    }\n",
       "</style>\n",
       "<table border=\"1\" class=\"dataframe\">\n",
       "  <thead>\n",
       "    <tr style=\"text-align: right;\">\n",
       "      <th></th>\n",
       "      <th>index</th>\n",
       "      <th>Age&lt;=12</th>\n",
       "      <th>Age&lt;=25</th>\n",
       "      <th>Age&lt;=35</th>\n",
       "      <th>Age&lt;=45</th>\n",
       "      <th>Age&lt;=55</th>\n",
       "      <th>Age&lt;=65</th>\n",
       "      <th>Age&lt;=75</th>\n",
       "      <th>Fare&lt;=2.3</th>\n",
       "      <th>Fare&lt;=3.3</th>\n",
       "      <th>Fare&lt;=4</th>\n",
       "      <th>Fare&lt;=5</th>\n",
       "      <th>Fare&lt;=6</th>\n",
       "    </tr>\n",
       "  </thead>\n",
       "  <tbody>\n",
       "    <tr>\n",
       "      <th>110</th>\n",
       "      <td>110</td>\n",
       "      <td>False</td>\n",
       "      <td>False</td>\n",
       "      <td>False</td>\n",
       "      <td>False</td>\n",
       "      <td>True</td>\n",
       "      <td>True</td>\n",
       "      <td>True</td>\n",
       "      <td>False</td>\n",
       "      <td>False</td>\n",
       "      <td>True</td>\n",
       "      <td>True</td>\n",
       "      <td>True</td>\n",
       "    </tr>\n",
       "    <tr>\n",
       "      <th>431</th>\n",
       "      <td>431</td>\n",
       "      <td>True</td>\n",
       "      <td>True</td>\n",
       "      <td>True</td>\n",
       "      <td>True</td>\n",
       "      <td>True</td>\n",
       "      <td>True</td>\n",
       "      <td>True</td>\n",
       "      <td>False</td>\n",
       "      <td>True</td>\n",
       "      <td>True</td>\n",
       "      <td>True</td>\n",
       "      <td>True</td>\n",
       "    </tr>\n",
       "    <tr>\n",
       "      <th>647</th>\n",
       "      <td>647</td>\n",
       "      <td>False</td>\n",
       "      <td>False</td>\n",
       "      <td>False</td>\n",
       "      <td>False</td>\n",
       "      <td>False</td>\n",
       "      <td>True</td>\n",
       "      <td>True</td>\n",
       "      <td>False</td>\n",
       "      <td>False</td>\n",
       "      <td>True</td>\n",
       "      <td>True</td>\n",
       "      <td>True</td>\n",
       "    </tr>\n",
       "    <tr>\n",
       "      <th>59</th>\n",
       "      <td>59</td>\n",
       "      <td>True</td>\n",
       "      <td>True</td>\n",
       "      <td>True</td>\n",
       "      <td>True</td>\n",
       "      <td>True</td>\n",
       "      <td>True</td>\n",
       "      <td>True</td>\n",
       "      <td>False</td>\n",
       "      <td>False</td>\n",
       "      <td>True</td>\n",
       "      <td>True</td>\n",
       "      <td>True</td>\n",
       "    </tr>\n",
       "    <tr>\n",
       "      <th>216</th>\n",
       "      <td>216</td>\n",
       "      <td>False</td>\n",
       "      <td>False</td>\n",
       "      <td>True</td>\n",
       "      <td>True</td>\n",
       "      <td>True</td>\n",
       "      <td>True</td>\n",
       "      <td>True</td>\n",
       "      <td>True</td>\n",
       "      <td>True</td>\n",
       "      <td>True</td>\n",
       "      <td>True</td>\n",
       "      <td>True</td>\n",
       "    </tr>\n",
       "  </tbody>\n",
       "</table>\n",
       "</div>"
      ],
      "text/plain": [
       "     index  Age<=12  Age<=25  Age<=35  Age<=45  Age<=55  Age<=65  Age<=75  \\\n",
       "110    110    False    False    False    False     True     True     True   \n",
       "431    431     True     True     True     True     True     True     True   \n",
       "647    647    False    False    False    False    False     True     True   \n",
       "59      59     True     True     True     True     True     True     True   \n",
       "216    216    False    False     True     True     True     True     True   \n",
       "\n",
       "     Fare<=2.3  Fare<=3.3  Fare<=4  Fare<=5  Fare<=6  \n",
       "110      False      False     True     True     True  \n",
       "431      False       True     True     True     True  \n",
       "647      False      False     True     True     True  \n",
       "59       False      False     True     True     True  \n",
       "216       True       True     True     True     True  "
      ]
     },
     "execution_count": 20,
     "metadata": {},
     "output_type": "execute_result"
    }
   ],
   "source": [
    "df_ordinal = create_ordinal_scale_features(df, numerical_features, [[12,25,35,45,55,65,75],[2.3,3.3,4,5,6]], [False,True])\n",
    "df_ordinal.sample(5)"
   ]
  },
  {
   "cell_type": "code",
   "execution_count": 21,
   "metadata": {
    "execution": {
     "iopub.execute_input": "2024-12-08T22:00:02.313503Z",
     "iopub.status.busy": "2024-12-08T22:00:02.313091Z",
     "iopub.status.idle": "2024-12-08T22:00:02.321269Z",
     "shell.execute_reply": "2024-12-08T22:00:02.319964Z",
     "shell.execute_reply.started": "2024-12-08T22:00:02.313466Z"
    }
   },
   "outputs": [],
   "source": [
    "def create_dichotomic_scale_features(df,features):\n",
    "    arr_df = []\n",
    "    for i in range(len(features)):\n",
    "        df_cur = df[[features[i]]].copy()\n",
    "        values = np.unique(df_cur[features[i]].astype(str))\n",
    "        # print(values)\n",
    "        df_cur[f'{features[i]} is {values[0]}'] = np.array(df_cur[features[i]].astype(str)==values[0])\n",
    "        df_cur[f'{features[i]} not is {values[0]}'] = np.array(df_cur[features[i]].astype(str)!=values[0])\n",
    "        df_cur = df_cur.drop([features[i]],axis=1)\n",
    "        arr_df.append(df_cur)\n",
    "        \n",
    "    return pd.concat(arr_df,axis=1).reset_index()"
   ]
  },
  {
   "cell_type": "code",
   "execution_count": 22,
   "metadata": {
    "execution": {
     "iopub.execute_input": "2024-12-08T22:00:02.985649Z",
     "iopub.status.busy": "2024-12-08T22:00:02.985177Z",
     "iopub.status.idle": "2024-12-08T22:00:03.003180Z",
     "shell.execute_reply": "2024-12-08T22:00:03.001621Z",
     "shell.execute_reply.started": "2024-12-08T22:00:02.985610Z"
    }
   },
   "outputs": [
    {
     "data": {
      "text/html": [
       "<div>\n",
       "<style scoped>\n",
       "    .dataframe tbody tr th:only-of-type {\n",
       "        vertical-align: middle;\n",
       "    }\n",
       "\n",
       "    .dataframe tbody tr th {\n",
       "        vertical-align: top;\n",
       "    }\n",
       "\n",
       "    .dataframe thead th {\n",
       "        text-align: right;\n",
       "    }\n",
       "</style>\n",
       "<table border=\"1\" class=\"dataframe\">\n",
       "  <thead>\n",
       "    <tr style=\"text-align: right;\">\n",
       "      <th></th>\n",
       "      <th>index</th>\n",
       "      <th>Sex is female</th>\n",
       "      <th>Sex not is female</th>\n",
       "    </tr>\n",
       "  </thead>\n",
       "  <tbody>\n",
       "    <tr>\n",
       "      <th>827</th>\n",
       "      <td>827</td>\n",
       "      <td>False</td>\n",
       "      <td>True</td>\n",
       "    </tr>\n",
       "    <tr>\n",
       "      <th>360</th>\n",
       "      <td>360</td>\n",
       "      <td>False</td>\n",
       "      <td>True</td>\n",
       "    </tr>\n",
       "    <tr>\n",
       "      <th>307</th>\n",
       "      <td>307</td>\n",
       "      <td>True</td>\n",
       "      <td>False</td>\n",
       "    </tr>\n",
       "    <tr>\n",
       "      <th>796</th>\n",
       "      <td>796</td>\n",
       "      <td>True</td>\n",
       "      <td>False</td>\n",
       "    </tr>\n",
       "    <tr>\n",
       "      <th>204</th>\n",
       "      <td>204</td>\n",
       "      <td>False</td>\n",
       "      <td>True</td>\n",
       "    </tr>\n",
       "  </tbody>\n",
       "</table>\n",
       "</div>"
      ],
      "text/plain": [
       "     index  Sex is female  Sex not is female\n",
       "827    827          False               True\n",
       "360    360          False               True\n",
       "307    307           True              False\n",
       "796    796           True              False\n",
       "204    204          False               True"
      ]
     },
     "execution_count": 22,
     "metadata": {},
     "output_type": "execute_result"
    }
   ],
   "source": [
    "df_dichotomic = create_dichotomic_scale_features(df, binary_features)\n",
    "df_dichotomic.sample(5)"
   ]
  },
  {
   "cell_type": "code",
   "execution_count": 23,
   "metadata": {
    "execution": {
     "iopub.execute_input": "2024-12-08T22:00:04.613356Z",
     "iopub.status.busy": "2024-12-08T22:00:04.612943Z",
     "iopub.status.idle": "2024-12-08T22:00:04.640942Z",
     "shell.execute_reply": "2024-12-08T22:00:04.639729Z",
     "shell.execute_reply.started": "2024-12-08T22:00:04.613321Z"
    }
   },
   "outputs": [
    {
     "data": {
      "text/html": [
       "<div>\n",
       "<style scoped>\n",
       "    .dataframe tbody tr th:only-of-type {\n",
       "        vertical-align: middle;\n",
       "    }\n",
       "\n",
       "    .dataframe tbody tr th {\n",
       "        vertical-align: top;\n",
       "    }\n",
       "\n",
       "    .dataframe thead th {\n",
       "        text-align: right;\n",
       "    }\n",
       "</style>\n",
       "<table border=\"1\" class=\"dataframe\">\n",
       "  <thead>\n",
       "    <tr style=\"text-align: right;\">\n",
       "      <th></th>\n",
       "      <th>index</th>\n",
       "      <th>Pclass==1</th>\n",
       "      <th>Pclass==2</th>\n",
       "      <th>Pclass==3</th>\n",
       "      <th>SibSp==0</th>\n",
       "      <th>SibSp==1</th>\n",
       "      <th>SibSp==2</th>\n",
       "      <th>SibSp==3</th>\n",
       "      <th>SibSp==4</th>\n",
       "      <th>SibSp==5</th>\n",
       "      <th>...</th>\n",
       "      <th>Age&lt;=65</th>\n",
       "      <th>Age&lt;=75</th>\n",
       "      <th>Fare&lt;=2.3</th>\n",
       "      <th>Fare&lt;=3.3</th>\n",
       "      <th>Fare&lt;=4</th>\n",
       "      <th>Fare&lt;=5</th>\n",
       "      <th>Fare&lt;=6</th>\n",
       "      <th>index</th>\n",
       "      <th>Sex is female</th>\n",
       "      <th>Sex not is female</th>\n",
       "    </tr>\n",
       "  </thead>\n",
       "  <tbody>\n",
       "    <tr>\n",
       "      <th>384</th>\n",
       "      <td>384</td>\n",
       "      <td>False</td>\n",
       "      <td>False</td>\n",
       "      <td>True</td>\n",
       "      <td>True</td>\n",
       "      <td>False</td>\n",
       "      <td>False</td>\n",
       "      <td>False</td>\n",
       "      <td>False</td>\n",
       "      <td>False</td>\n",
       "      <td>...</td>\n",
       "      <td>True</td>\n",
       "      <td>True</td>\n",
       "      <td>True</td>\n",
       "      <td>True</td>\n",
       "      <td>True</td>\n",
       "      <td>True</td>\n",
       "      <td>True</td>\n",
       "      <td>384</td>\n",
       "      <td>False</td>\n",
       "      <td>True</td>\n",
       "    </tr>\n",
       "    <tr>\n",
       "      <th>240</th>\n",
       "      <td>240</td>\n",
       "      <td>False</td>\n",
       "      <td>False</td>\n",
       "      <td>True</td>\n",
       "      <td>False</td>\n",
       "      <td>True</td>\n",
       "      <td>False</td>\n",
       "      <td>False</td>\n",
       "      <td>False</td>\n",
       "      <td>False</td>\n",
       "      <td>...</td>\n",
       "      <td>True</td>\n",
       "      <td>True</td>\n",
       "      <td>False</td>\n",
       "      <td>True</td>\n",
       "      <td>True</td>\n",
       "      <td>True</td>\n",
       "      <td>True</td>\n",
       "      <td>240</td>\n",
       "      <td>True</td>\n",
       "      <td>False</td>\n",
       "    </tr>\n",
       "    <tr>\n",
       "      <th>618</th>\n",
       "      <td>618</td>\n",
       "      <td>False</td>\n",
       "      <td>True</td>\n",
       "      <td>False</td>\n",
       "      <td>False</td>\n",
       "      <td>False</td>\n",
       "      <td>True</td>\n",
       "      <td>False</td>\n",
       "      <td>False</td>\n",
       "      <td>False</td>\n",
       "      <td>...</td>\n",
       "      <td>True</td>\n",
       "      <td>True</td>\n",
       "      <td>False</td>\n",
       "      <td>False</td>\n",
       "      <td>True</td>\n",
       "      <td>True</td>\n",
       "      <td>True</td>\n",
       "      <td>618</td>\n",
       "      <td>True</td>\n",
       "      <td>False</td>\n",
       "    </tr>\n",
       "    <tr>\n",
       "      <th>87</th>\n",
       "      <td>87</td>\n",
       "      <td>False</td>\n",
       "      <td>False</td>\n",
       "      <td>True</td>\n",
       "      <td>True</td>\n",
       "      <td>False</td>\n",
       "      <td>False</td>\n",
       "      <td>False</td>\n",
       "      <td>False</td>\n",
       "      <td>False</td>\n",
       "      <td>...</td>\n",
       "      <td>True</td>\n",
       "      <td>True</td>\n",
       "      <td>True</td>\n",
       "      <td>True</td>\n",
       "      <td>True</td>\n",
       "      <td>True</td>\n",
       "      <td>True</td>\n",
       "      <td>87</td>\n",
       "      <td>False</td>\n",
       "      <td>True</td>\n",
       "    </tr>\n",
       "    <tr>\n",
       "      <th>431</th>\n",
       "      <td>431</td>\n",
       "      <td>False</td>\n",
       "      <td>False</td>\n",
       "      <td>True</td>\n",
       "      <td>False</td>\n",
       "      <td>True</td>\n",
       "      <td>False</td>\n",
       "      <td>False</td>\n",
       "      <td>False</td>\n",
       "      <td>False</td>\n",
       "      <td>...</td>\n",
       "      <td>True</td>\n",
       "      <td>True</td>\n",
       "      <td>False</td>\n",
       "      <td>True</td>\n",
       "      <td>True</td>\n",
       "      <td>True</td>\n",
       "      <td>True</td>\n",
       "      <td>431</td>\n",
       "      <td>True</td>\n",
       "      <td>False</td>\n",
       "    </tr>\n",
       "  </tbody>\n",
       "</table>\n",
       "<p>5 rows × 47 columns</p>\n",
       "</div>"
      ],
      "text/plain": [
       "     index  Pclass==1  Pclass==2  Pclass==3  SibSp==0  SibSp==1  SibSp==2  \\\n",
       "384    384      False      False       True      True     False     False   \n",
       "240    240      False      False       True     False      True     False   \n",
       "618    618      False       True      False     False     False      True   \n",
       "87      87      False      False       True      True     False     False   \n",
       "431    431      False      False       True     False      True     False   \n",
       "\n",
       "     SibSp==3  SibSp==4  SibSp==5  ...  Age<=65  Age<=75  Fare<=2.3  \\\n",
       "384     False     False     False  ...     True     True       True   \n",
       "240     False     False     False  ...     True     True      False   \n",
       "618     False     False     False  ...     True     True      False   \n",
       "87      False     False     False  ...     True     True       True   \n",
       "431     False     False     False  ...     True     True      False   \n",
       "\n",
       "     Fare<=3.3  Fare<=4  Fare<=5  Fare<=6  index  Sex is female  \\\n",
       "384       True     True     True     True    384          False   \n",
       "240       True     True     True     True    240           True   \n",
       "618      False     True     True     True    618           True   \n",
       "87        True     True     True     True     87          False   \n",
       "431       True     True     True     True    431           True   \n",
       "\n",
       "     Sex not is female  \n",
       "384               True  \n",
       "240              False  \n",
       "618              False  \n",
       "87                True  \n",
       "431              False  \n",
       "\n",
       "[5 rows x 47 columns]"
      ]
     },
     "execution_count": 23,
     "metadata": {},
     "output_type": "execute_result"
    }
   ],
   "source": [
    "df_binarization = pd.concat([df_nominal,df_ordinal,df_dichotomic],axis=1)\n",
    "df_binarization.sample(5)"
   ]
  },
  {
   "cell_type": "markdown",
   "metadata": {},
   "source": [
    "### Step 4\n",
    "1. Split dataset into train-test\n",
    "2. Write functions to calculate metrics\n",
    "3. Apply lazy fca algorithm"
   ]
  },
  {
   "cell_type": "code",
   "execution_count": 24,
   "metadata": {
    "execution": {
     "iopub.execute_input": "2024-12-08T22:00:07.326288Z",
     "iopub.status.busy": "2024-12-08T22:00:07.325143Z",
     "iopub.status.idle": "2024-12-08T22:00:07.336123Z",
     "shell.execute_reply": "2024-12-08T22:00:07.334792Z",
     "shell.execute_reply.started": "2024-12-08T22:00:07.326211Z"
    }
   },
   "outputs": [],
   "source": [
    "X_train, X_test, y_train, y_test = train_test_split(df_binarization, \n",
    "                                                    df['Survived'], \n",
    "                                                    test_size=0.2, \n",
    "                                                    stratify=df['Survived'], \n",
    "                                                    random_state=42)"
   ]
  },
  {
   "cell_type": "code",
   "execution_count": 173,
   "metadata": {
    "execution": {
     "iopub.execute_input": "2024-12-07T22:17:24.953472Z",
     "iopub.status.busy": "2024-12-07T22:17:24.953063Z",
     "iopub.status.idle": "2024-12-07T22:17:24.966600Z",
     "shell.execute_reply": "2024-12-07T22:17:24.965066Z",
     "shell.execute_reply.started": "2024-12-07T22:17:24.953441Z"
    }
   },
   "outputs": [],
   "source": [
    "class LazyClassifierFCA:\n",
    "    def __init__(self):\n",
    "        self.X_train = None\n",
    "        self.y_train = None\n",
    "\n",
    "    def fit(self, X_train: pd.DataFrame, y_train: pd.Series) -> None:\n",
    "        self.X_train = X_train\n",
    "        self.y_train = y_train\n",
    "        \n",
    "    def classify_sample(self, sample: pd.Series):\n",
    "        # Split X_train into positive and negative classes\n",
    "        X_train_positive = self.X_train[y_train == 1]\n",
    "        X_train_negative = self.X_train[y_train == 0]\n",
    "        \n",
    "        positive_classifiers = 0\n",
    "        negative_classifiers = 0\n",
    "        \n",
    "        # Function to check if intersection with a train sample is a positive classifier\n",
    "        def is_positive_classifier(intersection):\n",
    "            # Find samples in X_train_positive that contain the intersection\n",
    "            num_positive = ((X_train_positive | ~intersection) == True).all(axis=1).sum()\n",
    "            num_negative = ((X_train_negative | ~intersection) == True).all(axis=1).sum()\n",
    "            return num_negative == 0 and num_positive > 1\n",
    "        \n",
    "        # Function to check if intersection is a negative classifier\n",
    "        def is_negative_classifier(intersection):\n",
    "            # Find samples in X_train_negative that contain the intersection\n",
    "            num_positive = ((X_train_positive | ~intersection) == True).all(axis=1).sum()\n",
    "            num_negative = ((X_train_negative | ~intersection) == True).all(axis=1).sum()\n",
    "            return num_positive == 0 and num_negative > 1\n",
    "        \n",
    "        # Check for positive classifiers by intersecting sample with each positive object\n",
    "        for _, pos_sample in X_train_positive.iterrows():\n",
    "            intersection = sample & pos_sample\n",
    "            if is_positive_classifier(intersection):\n",
    "                positive_classifiers += 1\n",
    "\n",
    "        # Check for negative classifiers by intersecting sample with each negative object\n",
    "        for _, neg_sample in X_train_negative.iterrows():\n",
    "            intersection = sample & neg_sample\n",
    "            if is_negative_classifier(intersection):\n",
    "                negative_classifiers += 1\n",
    "\n",
    "        # Determine the class based on the number of classifiers\n",
    "        if positive_classifiers > negative_classifiers:\n",
    "            print(f\"sample {sample.name} is classified as 1, {positive_classifiers=}, {negative_classifiers=}\")\n",
    "            return 1  # Predict positive\n",
    "            \n",
    "        elif negative_classifiers > positive_classifiers:\n",
    "            print(f\"sample {sample.name} is classified as 0, {positive_classifiers=}, {negative_classifiers=}\")\n",
    "            return 0  # Predict negative\n",
    "\n",
    "        else:\n",
    "            # If equal, you can decide on a rule, like defaulting to 0 or 1, or returning 'undetermined'\n",
    "            print(f\"sample {sample.name} is classified as 0, default, {positive_classifiers=}, {negative_classifiers=}\")\n",
    "        \n",
    "            return 0  \n",
    "            # or 0, depending on the choice\n",
    "\n",
    "\n",
    "    def predict(self, X_test: pd.DataFrame):\n",
    "        # List to store predictions for each test sample\n",
    "        predictions = []\n",
    "        \n",
    "        # Iterate through each sample in X_test\n",
    "        for _, sample in X_test.iterrows():\n",
    "            # Classify the sample and append the result to predictions\n",
    "            prediction = self.classify_sample(sample)\n",
    "            predictions.append(prediction)\n",
    "        \n",
    "        return predictions"
   ]
  },
  {
   "cell_type": "code",
   "execution_count": 174,
   "metadata": {
    "execution": {
     "iopub.execute_input": "2024-12-07T22:17:27.096123Z",
     "iopub.status.busy": "2024-12-07T22:17:27.095710Z",
     "iopub.status.idle": "2024-12-07T22:17:27.101575Z",
     "shell.execute_reply": "2024-12-07T22:17:27.100255Z",
     "shell.execute_reply.started": "2024-12-07T22:17:27.096086Z"
    }
   },
   "outputs": [],
   "source": [
    "fca_classifier = LazyClassifierFCA()\n",
    "fca_classifier.fit(X_train, y_train)"
   ]
  },
  {
   "cell_type": "code",
   "execution_count": 175,
   "metadata": {
    "execution": {
     "iopub.execute_input": "2024-12-07T22:17:27.796139Z",
     "iopub.status.busy": "2024-12-07T22:17:27.795708Z",
     "iopub.status.idle": "2024-12-07T22:20:59.287145Z",
     "shell.execute_reply": "2024-12-07T22:20:59.285915Z",
     "shell.execute_reply.started": "2024-12-07T22:17:27.796102Z"
    }
   },
   "outputs": [
    {
     "name": "stdout",
     "output_type": "stream",
     "text": [
      "sample 565 is classified as 0, positive_classifiers=0, negative_classifiers=8\n",
      "sample 160 is classified as 0, positive_classifiers=0, negative_classifiers=1\n",
      "sample 553 is classified as 0, default, positive_classifiers=0, negative_classifiers=0\n",
      "sample 860 is classified as 0, positive_classifiers=0, negative_classifiers=9\n",
      "sample 241 is classified as 1, positive_classifiers=3, negative_classifiers=0\n",
      "sample 559 is classified as 0, default, positive_classifiers=0, negative_classifiers=0\n",
      "sample 387 is classified as 0, default, positive_classifiers=0, negative_classifiers=0\n",
      "sample 536 is classified as 0, positive_classifiers=0, negative_classifiers=4\n",
      "sample 698 is classified as 1, positive_classifiers=2, negative_classifiers=1\n",
      "sample 99 is classified as 0, default, positive_classifiers=0, negative_classifiers=0\n",
      "sample 126 is classified as 0, default, positive_classifiers=0, negative_classifiers=0\n",
      "sample 333 is classified as 0, positive_classifiers=0, negative_classifiers=8\n",
      "sample 216 is classified as 0, default, positive_classifiers=0, negative_classifiers=0\n",
      "sample 817 is classified as 0, positive_classifiers=0, negative_classifiers=3\n",
      "sample 27 is classified as 0, positive_classifiers=3, negative_classifiers=9\n",
      "sample 703 is classified as 0, default, positive_classifiers=0, negative_classifiers=0\n",
      "sample 485 is classified as 0, positive_classifiers=0, negative_classifiers=9\n",
      "sample 511 is classified as 0, default, positive_classifiers=0, negative_classifiers=0\n",
      "sample 433 is classified as 0, default, positive_classifiers=0, negative_classifiers=0\n",
      "sample 576 is classified as 1, positive_classifiers=20, negative_classifiers=0\n",
      "sample 87 is classified as 0, default, positive_classifiers=0, negative_classifiers=0\n",
      "sample 580 is classified as 1, positive_classifiers=22, negative_classifiers=0\n",
      "sample 157 is classified as 0, default, positive_classifiers=0, negative_classifiers=0\n",
      "sample 279 is classified as 0, default, positive_classifiers=0, negative_classifiers=0\n",
      "sample 422 is classified as 0, default, positive_classifiers=0, negative_classifiers=0\n",
      "sample 369 is classified as 1, positive_classifiers=65, negative_classifiers=0\n",
      "sample 776 is classified as 1, positive_classifiers=4, negative_classifiers=2\n",
      "sample 712 is classified as 1, positive_classifiers=2, negative_classifiers=0\n",
      "sample 455 is classified as 0, default, positive_classifiers=0, negative_classifiers=0\n",
      "sample 495 is classified as 0, default, positive_classifiers=0, negative_classifiers=0\n",
      "sample 758 is classified as 0, default, positive_classifiers=0, negative_classifiers=0\n",
      "sample 730 is classified as 1, positive_classifiers=66, negative_classifiers=0\n",
      "sample 65 is classified as 1, positive_classifiers=8, negative_classifiers=0\n",
      "sample 75 is classified as 0, positive_classifiers=0, negative_classifiers=2\n",
      "sample 489 is classified as 1, positive_classifiers=9, negative_classifiers=0\n",
      "sample 869 is classified as 1, positive_classifiers=9, negative_classifiers=0\n",
      "sample 165 is classified as 1, positive_classifiers=3, negative_classifiers=0\n",
      "sample 71 is classified as 0, positive_classifiers=0, negative_classifiers=3\n",
      "sample 428 is classified as 0, default, positive_classifiers=0, negative_classifiers=0\n",
      "sample 417 is classified as 1, positive_classifiers=33, negative_classifiers=0\n",
      "sample 745 is classified as 1, positive_classifiers=6, negative_classifiers=1\n",
      "sample 297 is classified as 1, positive_classifiers=8, negative_classifiers=0\n",
      "sample 463 is classified as 0, default, positive_classifiers=0, negative_classifiers=0\n",
      "sample 84 is classified as 1, positive_classifiers=30, negative_classifiers=0\n",
      "sample 211 is classified as 1, positive_classifiers=20, negative_classifiers=0\n",
      "sample 115 is classified as 0, default, positive_classifiers=0, negative_classifiers=0\n",
      "sample 868 is classified as 0, default, positive_classifiers=0, negative_classifiers=0\n",
      "sample 40 is classified as 0, default, positive_classifiers=0, negative_classifiers=0\n",
      "sample 644 is classified as 1, positive_classifiers=9, negative_classifiers=0\n",
      "sample 322 is classified as 1, positive_classifiers=19, negative_classifiers=0\n",
      "sample 759 is classified as 1, positive_classifiers=71, negative_classifiers=0\n",
      "sample 564 is classified as 0, positive_classifiers=0, negative_classifiers=2\n",
      "sample 502 is classified as 0, default, positive_classifiers=0, negative_classifiers=0\n",
      "sample 17 is classified as 0, positive_classifiers=0, negative_classifiers=6\n",
      "sample 679 is classified as 0, positive_classifiers=0, negative_classifiers=1\n",
      "sample 401 is classified as 0, default, positive_classifiers=0, negative_classifiers=0\n",
      "sample 639 is classified as 0, positive_classifiers=0, negative_classifiers=2\n",
      "sample 701 is classified as 1, positive_classifiers=17, negative_classifiers=0\n",
      "sample 106 is classified as 0, default, positive_classifiers=0, negative_classifiers=0\n",
      "sample 447 is classified as 0, default, positive_classifiers=0, negative_classifiers=0\n",
      "sample 578 is classified as 0, positive_classifiers=0, negative_classifiers=1\n",
      "sample 472 is classified as 1, positive_classifiers=10, negative_classifiers=0\n",
      "sample 764 is classified as 0, default, positive_classifiers=0, negative_classifiers=0\n",
      "sample 397 is classified as 0, default, positive_classifiers=0, negative_classifiers=0\n",
      "sample 690 is classified as 0, default, positive_classifiers=4, negative_classifiers=4\n",
      "sample 38 is classified as 0, positive_classifiers=2, negative_classifiers=8\n",
      "sample 375 is classified as 1, positive_classifiers=67, negative_classifiers=0\n",
      "sample 752 is classified as 0, default, positive_classifiers=0, negative_classifiers=0\n",
      "sample 625 is classified as 0, default, positive_classifiers=0, negative_classifiers=0\n",
      "sample 864 is classified as 0, default, positive_classifiers=0, negative_classifiers=0\n",
      "sample 275 is classified as 1, positive_classifiers=50, negative_classifiers=0\n",
      "sample 773 is classified as 0, default, positive_classifiers=0, negative_classifiers=0\n",
      "sample 593 is classified as 0, default, positive_classifiers=0, negative_classifiers=0\n",
      "sample 504 is classified as 1, positive_classifiers=70, negative_classifiers=0\n",
      "sample 239 is classified as 0, default, positive_classifiers=0, negative_classifiers=0\n",
      "sample 153 is classified as 1, positive_classifiers=1, negative_classifiers=0\n",
      "sample 614 is classified as 0, default, positive_classifiers=0, negative_classifiers=0\n",
      "sample 442 is classified as 0, default, positive_classifiers=0, negative_classifiers=0\n",
      "sample 180 is classified as 0, positive_classifiers=0, negative_classifiers=5\n",
      "sample 634 is classified as 0, positive_classifiers=0, negative_classifiers=8\n",
      "sample 386 is classified as 0, positive_classifiers=0, negative_classifiers=3\n",
      "sample 244 is classified as 0, default, positive_classifiers=0, negative_classifiers=0\n",
      "sample 749 is classified as 0, default, positive_classifiers=0, negative_classifiers=0\n",
      "sample 162 is classified as 0, default, positive_classifiers=0, negative_classifiers=0\n",
      "sample 501 is classified as 0, default, positive_classifiers=0, negative_classifiers=0\n",
      "sample 92 is classified as 0, default, positive_classifiers=0, negative_classifiers=0\n",
      "sample 714 is classified as 0, default, positive_classifiers=0, negative_classifiers=0\n",
      "sample 431 is classified as 1, positive_classifiers=3, negative_classifiers=0\n",
      "sample 452 is classified as 1, positive_classifiers=7, negative_classifiers=0\n",
      "sample 853 is classified as 1, positive_classifiers=70, negative_classifiers=1\n",
      "sample 55 is classified as 0, default, positive_classifiers=0, negative_classifiers=0\n",
      "sample 351 is classified as 0, default, positive_classifiers=0, negative_classifiers=0\n",
      "sample 570 is classified as 0, default, positive_classifiers=0, negative_classifiers=0\n",
      "sample 29 is classified as 0, default, positive_classifiers=0, negative_classifiers=0\n",
      "sample 62 is classified as 0, default, positive_classifiers=0, negative_classifiers=0\n",
      "sample 596 is classified as 1, positive_classifiers=29, negative_classifiers=6\n",
      "sample 458 is classified as 0, default, positive_classifiers=0, negative_classifiers=0\n",
      "sample 459 is classified as 0, default, positive_classifiers=0, negative_classifiers=0\n",
      "sample 4 is classified as 0, default, positive_classifiers=0, negative_classifiers=0\n",
      "sample 271 is classified as 0, default, positive_classifiers=0, negative_classifiers=0\n",
      "sample 252 is classified as 0, default, positive_classifiers=0, negative_classifiers=0\n",
      "sample 341 is classified as 0, positive_classifiers=0, negative_classifiers=8\n",
      "sample 82 is classified as 0, default, positive_classifiers=0, negative_classifiers=0\n",
      "sample 9 is classified as 1, positive_classifiers=22, negative_classifiers=0\n",
      "sample 810 is classified as 0, default, positive_classifiers=0, negative_classifiers=0\n",
      "sample 23 is classified as 0, positive_classifiers=0, negative_classifiers=5\n",
      "sample 841 is classified as 0, default, positive_classifiers=0, negative_classifiers=0\n",
      "sample 410 is classified as 0, default, positive_classifiers=0, negative_classifiers=0\n",
      "sample 566 is classified as 0, default, positive_classifiers=0, negative_classifiers=0\n",
      "sample 245 is classified as 1, positive_classifiers=3, negative_classifiers=0\n",
      "sample 560 is classified as 0, default, positive_classifiers=0, negative_classifiers=0\n",
      "sample 324 is classified as 0, positive_classifiers=0, negative_classifiers=5\n",
      "sample 146 is classified as 0, default, positive_classifiers=0, negative_classifiers=0\n",
      "sample 659 is classified as 1, positive_classifiers=16, negative_classifiers=0\n",
      "sample 571 is classified as 1, positive_classifiers=33, negative_classifiers=3\n",
      "sample 196 is classified as 0, default, positive_classifiers=0, negative_classifiers=0\n",
      "sample 16 is classified as 0, positive_classifiers=0, negative_classifiers=9\n",
      "sample 138 is classified as 0, default, positive_classifiers=0, negative_classifiers=0\n",
      "sample 743 is classified as 0, default, positive_classifiers=0, negative_classifiers=0\n",
      "sample 555 is classified as 0, default, positive_classifiers=0, negative_classifiers=0\n",
      "sample 105 is classified as 0, default, positive_classifiers=0, negative_classifiers=0\n",
      "sample 726 is classified as 0, default, positive_classifiers=0, negative_classifiers=0\n",
      "sample 603 is classified as 0, default, positive_classifiers=0, negative_classifiers=0\n",
      "sample 541 is classified as 0, default, positive_classifiers=0, negative_classifiers=0\n",
      "sample 775 is classified as 0, default, positive_classifiers=0, negative_classifiers=0\n",
      "sample 824 is classified as 0, positive_classifiers=0, negative_classifiers=7\n",
      "sample 336 is classified as 1, positive_classifiers=5, negative_classifiers=0\n",
      "sample 799 is classified as 0, default, positive_classifiers=0, negative_classifiers=0\n",
      "sample 676 is classified as 0, default, positive_classifiers=0, negative_classifiers=0\n",
      "sample 607 is classified as 0, default, positive_classifiers=0, negative_classifiers=0\n",
      "sample 826 is classified as 0, default, positive_classifiers=0, negative_classifiers=0\n",
      "sample 756 is classified as 0, default, positive_classifiers=0, negative_classifiers=0\n",
      "sample 186 is classified as 1, positive_classifiers=3, negative_classifiers=0\n",
      "sample 411 is classified as 0, default, positive_classifiers=0, negative_classifiers=0\n",
      "sample 549 is classified as 1, positive_classifiers=15, negative_classifiers=0\n",
      "sample 441 is classified as 0, default, positive_classifiers=0, negative_classifiers=0\n",
      "sample 435 is classified as 1, positive_classifiers=68, negative_classifiers=0\n",
      "sample 790 is classified as 0, default, positive_classifiers=0, negative_classifiers=0\n",
      "sample 198 is classified as 0, default, positive_classifiers=0, negative_classifiers=0\n",
      "sample 444 is classified as 0, default, positive_classifiers=0, negative_classifiers=0\n",
      "sample 671 is classified as 0, default, positive_classifiers=4, negative_classifiers=4\n",
      "sample 296 is classified as 0, default, positive_classifiers=0, negative_classifiers=0\n",
      "sample 802 is classified as 1, positive_classifiers=13, negative_classifiers=3\n",
      "sample 137 is classified as 1, positive_classifiers=2, negative_classifiers=0\n",
      "sample 532 is classified as 0, positive_classifiers=0, negative_classifiers=1\n",
      "sample 587 is classified as 1, positive_classifiers=7, negative_classifiers=1\n",
      "sample 878 is classified as 0, default, positive_classifiers=0, negative_classifiers=0\n",
      "sample 728 is classified as 0, default, positive_classifiers=0, negative_classifiers=0\n",
      "sample 389 is classified as 1, positive_classifiers=32, negative_classifiers=0\n",
      "sample 427 is classified as 1, positive_classifiers=30, negative_classifiers=0\n",
      "sample 804 is classified as 0, default, positive_classifiers=0, negative_classifiers=0\n",
      "sample 731 is classified as 0, default, positive_classifiers=0, negative_classifiers=0\n",
      "sample 88 is classified as 0, positive_classifiers=0, negative_classifiers=8\n",
      "sample 39 is classified as 0, default, positive_classifiers=0, negative_classifiers=0\n",
      "sample 492 is classified as 0, default, positive_classifiers=0, negative_classifiers=0\n",
      "sample 823 is classified as 1, positive_classifiers=19, negative_classifiers=0\n",
      "sample 886 is classified as 0, default, positive_classifiers=0, negative_classifiers=0\n",
      "sample 353 is classified as 0, default, positive_classifiers=0, negative_classifiers=0\n",
      "sample 685 is classified as 1, positive_classifiers=10, negative_classifiers=3\n",
      "sample 11 is classified as 1, positive_classifiers=34, negative_classifiers=0\n",
      "sample 484 is classified as 1, positive_classifiers=5, negative_classifiers=2\n",
      "sample 366 is classified as 1, positive_classifiers=42, negative_classifiers=0\n",
      "sample 300 is classified as 0, default, positive_classifiers=0, negative_classifiers=0\n",
      "sample 879 is classified as 1, positive_classifiers=13, negative_classifiers=0\n",
      "sample 530 is classified as 1, positive_classifiers=28, negative_classifiers=0\n",
      "sample 293 is classified as 0, default, positive_classifiers=0, negative_classifiers=0\n",
      "sample 814 is classified as 0, default, positive_classifiers=0, negative_classifiers=0\n",
      "sample 515 is classified as 0, default, positive_classifiers=0, negative_classifiers=0\n",
      "sample 199 is classified as 1, positive_classifiers=30, negative_classifiers=0\n",
      "sample 142 is classified as 0, default, positive_classifiers=0, negative_classifiers=0\n",
      "sample 349 is classified as 0, default, positive_classifiers=0, negative_classifiers=0\n",
      "sample 354 is classified as 0, default, positive_classifiers=0, negative_classifiers=0\n",
      "sample 295 is classified as 0, positive_classifiers=0, negative_classifiers=5\n",
      "sample 143 is classified as 0, default, positive_classifiers=0, negative_classifiers=0\n",
      "sample 880 is classified as 1, positive_classifiers=35, negative_classifiers=0\n",
      "sample 91 is classified as 0, default, positive_classifiers=0, negative_classifiers=0\n",
      "sample 883 is classified as 0, default, positive_classifiers=0, negative_classifiers=0\n",
      "sample 473 is classified as 1, positive_classifiers=42, negative_classifiers=0\n",
      "sample 637 is classified as 0, default, positive_classifiers=0, negative_classifiers=0\n",
      "CPU times: user 3min 31s, sys: 217 ms, total: 3min 31s\n",
      "Wall time: 3min 31s\n"
     ]
    }
   ],
   "source": [
    "%%time\n",
    "y_pred_fca = fca_classifier.predict(X_test)"
   ]
  },
  {
   "cell_type": "code",
   "execution_count": 189,
   "metadata": {
    "execution": {
     "iopub.execute_input": "2024-12-07T22:51:05.238749Z",
     "iopub.status.busy": "2024-12-07T22:51:05.238329Z",
     "iopub.status.idle": "2024-12-07T22:51:05.247287Z",
     "shell.execute_reply": "2024-12-07T22:51:05.246180Z",
     "shell.execute_reply.started": "2024-12-07T22:51:05.238710Z"
    }
   },
   "outputs": [],
   "source": [
    "def calculate_metrics(name,y_pred,y_true):\n",
    "    true_positive = np.sum((y_pred==1)&(y_true==1))\n",
    "    true_negative = np.sum((y_pred==0)&(y_true==0))\n",
    "    false_positive = np.sum((y_pred==1)&(y_true==0))\n",
    "    false_negative = np.sum((y_pred==0)&(y_true==1))\n",
    "    \n",
    "    Specificity = true_negative / (true_negative + false_positive)\n",
    "    npv = true_negative/ (true_negative + false_negative)\n",
    "    fpr = false_positive / (false_positive + true_negative)\n",
    "    fdr = false_negative / (false_negative + true_positive)\n",
    "    accuracy = accuracy_score(y_test, y_pred)\n",
    "    precision = precision_score(y_test, y_pred)\n",
    "    recall = recall_score(y_test, y_pred)\n",
    "    f1 = f1_score(y_test, y_pred)\n",
    "    metrics = pd.DataFrame({\"True Positive\":[true_positive],\n",
    "                         \"True Negative\":[true_negative],\n",
    "                         \"False Positive\":[false_positive],\n",
    "                         \"False Negative\":[false_negative],\n",
    "                         \"Negative Predictive Value\":[npv],\n",
    "                         \"False Positive Rate\":[fpr],\n",
    "                         \"False Discovery Rate\":[fdr],\n",
    "                         \"accuracy\":[accuracy],\n",
    "                         \"precision\":[precision],\n",
    "                         \"recall\":[recall],\n",
    "                         \"f1\":[f1],\n",
    "                        })\n",
    "    metrics.index = [name]\n",
    "    return metrics\n",
    "    "
   ]
  },
  {
   "cell_type": "code",
   "execution_count": 191,
   "metadata": {
    "execution": {
     "iopub.execute_input": "2024-12-07T22:51:08.541924Z",
     "iopub.status.busy": "2024-12-07T22:51:08.541492Z",
     "iopub.status.idle": "2024-12-07T22:51:08.573983Z",
     "shell.execute_reply": "2024-12-07T22:51:08.572813Z",
     "shell.execute_reply.started": "2024-12-07T22:51:08.541885Z"
    }
   },
   "outputs": [
    {
     "data": {
      "text/html": [
       "<div>\n",
       "<style scoped>\n",
       "    .dataframe tbody tr th:only-of-type {\n",
       "        vertical-align: middle;\n",
       "    }\n",
       "\n",
       "    .dataframe tbody tr th {\n",
       "        vertical-align: top;\n",
       "    }\n",
       "\n",
       "    .dataframe thead th {\n",
       "        text-align: right;\n",
       "    }\n",
       "</style>\n",
       "<table border=\"1\" class=\"dataframe\">\n",
       "  <thead>\n",
       "    <tr style=\"text-align: right;\">\n",
       "      <th></th>\n",
       "      <th>True Positive</th>\n",
       "      <th>True Negative</th>\n",
       "      <th>False Positive</th>\n",
       "      <th>False Negative</th>\n",
       "      <th>Negative Predictive Value</th>\n",
       "      <th>False Positive Rate</th>\n",
       "      <th>False Discovery Rate</th>\n",
       "      <th>accuracy</th>\n",
       "      <th>precision</th>\n",
       "      <th>recall</th>\n",
       "      <th>f1</th>\n",
       "    </tr>\n",
       "  </thead>\n",
       "  <tbody>\n",
       "    <tr>\n",
       "      <th>fca</th>\n",
       "      <td>41</td>\n",
       "      <td>98</td>\n",
       "      <td>12</td>\n",
       "      <td>28</td>\n",
       "      <td>0.777778</td>\n",
       "      <td>0.109091</td>\n",
       "      <td>0.405797</td>\n",
       "      <td>0.776536</td>\n",
       "      <td>0.773585</td>\n",
       "      <td>0.594203</td>\n",
       "      <td>0.672131</td>\n",
       "    </tr>\n",
       "  </tbody>\n",
       "</table>\n",
       "</div>"
      ],
      "text/plain": [
       "     True Positive  True Negative  False Positive  False Negative  \\\n",
       "fca             41             98              12              28   \n",
       "\n",
       "     Negative Predictive Value  False Positive Rate  False Discovery Rate  \\\n",
       "fca                   0.777778             0.109091              0.405797   \n",
       "\n",
       "     accuracy  precision    recall        f1  \n",
       "fca  0.776536   0.773585  0.594203  0.672131  "
      ]
     },
     "execution_count": 191,
     "metadata": {},
     "output_type": "execute_result"
    }
   ],
   "source": [
    "fca_metrics = calculate_metrics('fca',np.array(y_pred_fca),y_test)\n",
    "fca_metrics"
   ]
  },
  {
   "cell_type": "markdown",
   "metadata": {},
   "source": [
    "### Step 5\n",
    "1. KNN\n",
    "2. Logistic Regression\n",
    "3. Decision Tree\n",
    "4. Random Forest\n",
    "5. XGBoost"
   ]
  },
  {
   "cell_type": "code",
   "execution_count": 219,
   "metadata": {
    "execution": {
     "iopub.execute_input": "2024-12-07T23:27:33.781091Z",
     "iopub.status.busy": "2024-12-07T23:27:33.780279Z",
     "iopub.status.idle": "2024-12-07T23:27:33.977880Z",
     "shell.execute_reply": "2024-12-07T23:27:33.976863Z",
     "shell.execute_reply.started": "2024-12-07T23:27:33.781051Z"
    }
   },
   "outputs": [],
   "source": [
    "from sklearn.compose import ColumnTransformer\n",
    "from sklearn.preprocessing import OneHotEncoder, StandardScaler\n",
    "from sklearn.pipeline import Pipeline\n",
    "\n",
    "from sklearn.neighbors import KNeighborsClassifier\n",
    "from sklearn.tree import DecisionTreeClassifier\n",
    "from sklearn.linear_model import LogisticRegression\n",
    "from sklearn.ensemble import RandomForestClassifier\n",
    "import xgboost as xgb"
   ]
  },
  {
   "cell_type": "code",
   "execution_count": 204,
   "metadata": {
    "execution": {
     "iopub.execute_input": "2024-12-07T23:22:29.948713Z",
     "iopub.status.busy": "2024-12-07T23:22:29.947756Z",
     "iopub.status.idle": "2024-12-07T23:22:29.953854Z",
     "shell.execute_reply": "2024-12-07T23:22:29.952798Z",
     "shell.execute_reply.started": "2024-12-07T23:22:29.948673Z"
    }
   },
   "outputs": [],
   "source": [
    "seed = 42\n",
    "\n",
    "column_transformer = ColumnTransformer(\n",
    "    transformers=[\n",
    "        (\n",
    "            \"ohe\",\n",
    "            OneHotEncoder(handle_unknown=\"ignore\", sparse_output=False),\n",
    "            binary_features+categorical_features,\n",
    "        ),\n",
    "        (\"scaling\", StandardScaler(), numerical_features),\n",
    "    ],\n",
    "    remainder=\"passthrough\",\n",
    ")"
   ]
  },
  {
   "cell_type": "code",
   "execution_count": 207,
   "metadata": {
    "execution": {
     "iopub.execute_input": "2024-12-07T23:23:22.343106Z",
     "iopub.status.busy": "2024-12-07T23:23:22.342405Z",
     "iopub.status.idle": "2024-12-07T23:23:22.350716Z",
     "shell.execute_reply": "2024-12-07T23:23:22.349644Z",
     "shell.execute_reply.started": "2024-12-07T23:23:22.343040Z"
    }
   },
   "outputs": [],
   "source": [
    "df['Fare'] = df['Fare'].fillna(0).astype(float)\n",
    "df['Age'] = df['Age'].fillna(0).astype(float)"
   ]
  },
  {
   "cell_type": "code",
   "execution_count": 199,
   "metadata": {
    "execution": {
     "iopub.execute_input": "2024-12-07T23:20:17.324108Z",
     "iopub.status.busy": "2024-12-07T23:20:17.323713Z",
     "iopub.status.idle": "2024-12-07T23:20:17.330543Z",
     "shell.execute_reply": "2024-12-07T23:20:17.329346Z",
     "shell.execute_reply.started": "2024-12-07T23:20:17.324074Z"
    }
   },
   "outputs": [],
   "source": [
    "df['Fare'] = np.log(1+df['Fare'])"
   ]
  },
  {
   "cell_type": "code",
   "execution_count": 208,
   "metadata": {
    "execution": {
     "iopub.execute_input": "2024-12-07T23:23:24.312324Z",
     "iopub.status.busy": "2024-12-07T23:23:24.311941Z",
     "iopub.status.idle": "2024-12-07T23:23:24.323279Z",
     "shell.execute_reply": "2024-12-07T23:23:24.321904Z",
     "shell.execute_reply.started": "2024-12-07T23:23:24.312290Z"
    }
   },
   "outputs": [],
   "source": [
    "X_train, X_test, y_train, y_test = train_test_split(df[binary_features+categorical_features+numerical_features], df['Survived'], test_size=0.2, stratify=df['Survived'], random_state=42)"
   ]
  },
  {
   "cell_type": "code",
   "execution_count": 210,
   "metadata": {
    "execution": {
     "iopub.execute_input": "2024-12-07T23:23:25.101192Z",
     "iopub.status.busy": "2024-12-07T23:23:25.100748Z",
     "iopub.status.idle": "2024-12-07T23:23:25.141168Z",
     "shell.execute_reply": "2024-12-07T23:23:25.140079Z",
     "shell.execute_reply.started": "2024-12-07T23:23:25.101155Z"
    }
   },
   "outputs": [
    {
     "data": {
      "text/html": [
       "<style>#sk-container-id-2 {color: black;background-color: white;}#sk-container-id-2 pre{padding: 0;}#sk-container-id-2 div.sk-toggleable {background-color: white;}#sk-container-id-2 label.sk-toggleable__label {cursor: pointer;display: block;width: 100%;margin-bottom: 0;padding: 0.3em;box-sizing: border-box;text-align: center;}#sk-container-id-2 label.sk-toggleable__label-arrow:before {content: \"▸\";float: left;margin-right: 0.25em;color: #696969;}#sk-container-id-2 label.sk-toggleable__label-arrow:hover:before {color: black;}#sk-container-id-2 div.sk-estimator:hover label.sk-toggleable__label-arrow:before {color: black;}#sk-container-id-2 div.sk-toggleable__content {max-height: 0;max-width: 0;overflow: hidden;text-align: left;background-color: #f0f8ff;}#sk-container-id-2 div.sk-toggleable__content pre {margin: 0.2em;color: black;border-radius: 0.25em;background-color: #f0f8ff;}#sk-container-id-2 input.sk-toggleable__control:checked~div.sk-toggleable__content {max-height: 200px;max-width: 100%;overflow: auto;}#sk-container-id-2 input.sk-toggleable__control:checked~label.sk-toggleable__label-arrow:before {content: \"▾\";}#sk-container-id-2 div.sk-estimator input.sk-toggleable__control:checked~label.sk-toggleable__label {background-color: #d4ebff;}#sk-container-id-2 div.sk-label input.sk-toggleable__control:checked~label.sk-toggleable__label {background-color: #d4ebff;}#sk-container-id-2 input.sk-hidden--visually {border: 0;clip: rect(1px 1px 1px 1px);clip: rect(1px, 1px, 1px, 1px);height: 1px;margin: -1px;overflow: hidden;padding: 0;position: absolute;width: 1px;}#sk-container-id-2 div.sk-estimator {font-family: monospace;background-color: #f0f8ff;border: 1px dotted black;border-radius: 0.25em;box-sizing: border-box;margin-bottom: 0.5em;}#sk-container-id-2 div.sk-estimator:hover {background-color: #d4ebff;}#sk-container-id-2 div.sk-parallel-item::after {content: \"\";width: 100%;border-bottom: 1px solid gray;flex-grow: 1;}#sk-container-id-2 div.sk-label:hover label.sk-toggleable__label {background-color: #d4ebff;}#sk-container-id-2 div.sk-serial::before {content: \"\";position: absolute;border-left: 1px solid gray;box-sizing: border-box;top: 0;bottom: 0;left: 50%;z-index: 0;}#sk-container-id-2 div.sk-serial {display: flex;flex-direction: column;align-items: center;background-color: white;padding-right: 0.2em;padding-left: 0.2em;position: relative;}#sk-container-id-2 div.sk-item {position: relative;z-index: 1;}#sk-container-id-2 div.sk-parallel {display: flex;align-items: stretch;justify-content: center;background-color: white;position: relative;}#sk-container-id-2 div.sk-item::before, #sk-container-id-2 div.sk-parallel-item::before {content: \"\";position: absolute;border-left: 1px solid gray;box-sizing: border-box;top: 0;bottom: 0;left: 50%;z-index: -1;}#sk-container-id-2 div.sk-parallel-item {display: flex;flex-direction: column;z-index: 1;position: relative;background-color: white;}#sk-container-id-2 div.sk-parallel-item:first-child::after {align-self: flex-end;width: 50%;}#sk-container-id-2 div.sk-parallel-item:last-child::after {align-self: flex-start;width: 50%;}#sk-container-id-2 div.sk-parallel-item:only-child::after {width: 0;}#sk-container-id-2 div.sk-dashed-wrapped {border: 1px dashed gray;margin: 0 0.4em 0.5em 0.4em;box-sizing: border-box;padding-bottom: 0.4em;background-color: white;}#sk-container-id-2 div.sk-label label {font-family: monospace;font-weight: bold;display: inline-block;line-height: 1.2em;}#sk-container-id-2 div.sk-label-container {text-align: center;}#sk-container-id-2 div.sk-container {/* jupyter's `normalize.less` sets `[hidden] { display: none; }` but bootstrap.min.css set `[hidden] { display: none !important; }` so we also need the `!important` here to be able to override the default hidden behavior on the sphinx rendered scikit-learn.org. See: https://github.com/scikit-learn/scikit-learn/issues/21755 */display: inline-block !important;position: relative;}#sk-container-id-2 div.sk-text-repr-fallback {display: none;}</style><div id=\"sk-container-id-2\" class=\"sk-top-container\"><div class=\"sk-text-repr-fallback\"><pre>Pipeline(steps=[(&#x27;ohe_and_scaling&#x27;,\n",
       "                 ColumnTransformer(remainder=&#x27;passthrough&#x27;,\n",
       "                                   transformers=[(&#x27;ohe&#x27;,\n",
       "                                                  OneHotEncoder(handle_unknown=&#x27;ignore&#x27;,\n",
       "                                                                sparse_output=False),\n",
       "                                                  [&#x27;Sex&#x27;, &#x27;Pclass&#x27;, &#x27;SibSp&#x27;,\n",
       "                                                   &#x27;Parch&#x27;, &#x27;Cabin&#x27;,\n",
       "                                                   &#x27;Embarked&#x27;]),\n",
       "                                                 (&#x27;scaling&#x27;, StandardScaler(),\n",
       "                                                  [&#x27;Age&#x27;, &#x27;Fare&#x27;])])),\n",
       "                (&#x27;KNN&#x27;, KNeighborsClassifier())])</pre><b>In a Jupyter environment, please rerun this cell to show the HTML representation or trust the notebook. <br />On GitHub, the HTML representation is unable to render, please try loading this page with nbviewer.org.</b></div><div class=\"sk-container\" hidden><div class=\"sk-item sk-dashed-wrapped\"><div class=\"sk-label-container\"><div class=\"sk-label sk-toggleable\"><input class=\"sk-toggleable__control sk-hidden--visually\" id=\"sk-estimator-id-2\" type=\"checkbox\" ><label for=\"sk-estimator-id-2\" class=\"sk-toggleable__label sk-toggleable__label-arrow\">Pipeline</label><div class=\"sk-toggleable__content\"><pre>Pipeline(steps=[(&#x27;ohe_and_scaling&#x27;,\n",
       "                 ColumnTransformer(remainder=&#x27;passthrough&#x27;,\n",
       "                                   transformers=[(&#x27;ohe&#x27;,\n",
       "                                                  OneHotEncoder(handle_unknown=&#x27;ignore&#x27;,\n",
       "                                                                sparse_output=False),\n",
       "                                                  [&#x27;Sex&#x27;, &#x27;Pclass&#x27;, &#x27;SibSp&#x27;,\n",
       "                                                   &#x27;Parch&#x27;, &#x27;Cabin&#x27;,\n",
       "                                                   &#x27;Embarked&#x27;]),\n",
       "                                                 (&#x27;scaling&#x27;, StandardScaler(),\n",
       "                                                  [&#x27;Age&#x27;, &#x27;Fare&#x27;])])),\n",
       "                (&#x27;KNN&#x27;, KNeighborsClassifier())])</pre></div></div></div><div class=\"sk-serial\"><div class=\"sk-item sk-dashed-wrapped\"><div class=\"sk-label-container\"><div class=\"sk-label sk-toggleable\"><input class=\"sk-toggleable__control sk-hidden--visually\" id=\"sk-estimator-id-3\" type=\"checkbox\" ><label for=\"sk-estimator-id-3\" class=\"sk-toggleable__label sk-toggleable__label-arrow\">ohe_and_scaling: ColumnTransformer</label><div class=\"sk-toggleable__content\"><pre>ColumnTransformer(remainder=&#x27;passthrough&#x27;,\n",
       "                  transformers=[(&#x27;ohe&#x27;,\n",
       "                                 OneHotEncoder(handle_unknown=&#x27;ignore&#x27;,\n",
       "                                               sparse_output=False),\n",
       "                                 [&#x27;Sex&#x27;, &#x27;Pclass&#x27;, &#x27;SibSp&#x27;, &#x27;Parch&#x27;, &#x27;Cabin&#x27;,\n",
       "                                  &#x27;Embarked&#x27;]),\n",
       "                                (&#x27;scaling&#x27;, StandardScaler(), [&#x27;Age&#x27;, &#x27;Fare&#x27;])])</pre></div></div></div><div class=\"sk-parallel\"><div class=\"sk-parallel-item\"><div class=\"sk-item\"><div class=\"sk-label-container\"><div class=\"sk-label sk-toggleable\"><input class=\"sk-toggleable__control sk-hidden--visually\" id=\"sk-estimator-id-4\" type=\"checkbox\" ><label for=\"sk-estimator-id-4\" class=\"sk-toggleable__label sk-toggleable__label-arrow\">ohe</label><div class=\"sk-toggleable__content\"><pre>[&#x27;Sex&#x27;, &#x27;Pclass&#x27;, &#x27;SibSp&#x27;, &#x27;Parch&#x27;, &#x27;Cabin&#x27;, &#x27;Embarked&#x27;]</pre></div></div></div><div class=\"sk-serial\"><div class=\"sk-item\"><div class=\"sk-estimator sk-toggleable\"><input class=\"sk-toggleable__control sk-hidden--visually\" id=\"sk-estimator-id-5\" type=\"checkbox\" ><label for=\"sk-estimator-id-5\" class=\"sk-toggleable__label sk-toggleable__label-arrow\">OneHotEncoder</label><div class=\"sk-toggleable__content\"><pre>OneHotEncoder(handle_unknown=&#x27;ignore&#x27;, sparse_output=False)</pre></div></div></div></div></div></div><div class=\"sk-parallel-item\"><div class=\"sk-item\"><div class=\"sk-label-container\"><div class=\"sk-label sk-toggleable\"><input class=\"sk-toggleable__control sk-hidden--visually\" id=\"sk-estimator-id-6\" type=\"checkbox\" ><label for=\"sk-estimator-id-6\" class=\"sk-toggleable__label sk-toggleable__label-arrow\">scaling</label><div class=\"sk-toggleable__content\"><pre>[&#x27;Age&#x27;, &#x27;Fare&#x27;]</pre></div></div></div><div class=\"sk-serial\"><div class=\"sk-item\"><div class=\"sk-estimator sk-toggleable\"><input class=\"sk-toggleable__control sk-hidden--visually\" id=\"sk-estimator-id-7\" type=\"checkbox\" ><label for=\"sk-estimator-id-7\" class=\"sk-toggleable__label sk-toggleable__label-arrow\">StandardScaler</label><div class=\"sk-toggleable__content\"><pre>StandardScaler()</pre></div></div></div></div></div></div><div class=\"sk-parallel-item\"><div class=\"sk-item\"><div class=\"sk-label-container\"><div class=\"sk-label sk-toggleable\"><input class=\"sk-toggleable__control sk-hidden--visually\" id=\"sk-estimator-id-8\" type=\"checkbox\" ><label for=\"sk-estimator-id-8\" class=\"sk-toggleable__label sk-toggleable__label-arrow\">remainder</label><div class=\"sk-toggleable__content\"><pre>[]</pre></div></div></div><div class=\"sk-serial\"><div class=\"sk-item\"><div class=\"sk-estimator sk-toggleable\"><input class=\"sk-toggleable__control sk-hidden--visually\" id=\"sk-estimator-id-9\" type=\"checkbox\" ><label for=\"sk-estimator-id-9\" class=\"sk-toggleable__label sk-toggleable__label-arrow\">passthrough</label><div class=\"sk-toggleable__content\"><pre>passthrough</pre></div></div></div></div></div></div></div></div><div class=\"sk-item\"><div class=\"sk-estimator sk-toggleable\"><input class=\"sk-toggleable__control sk-hidden--visually\" id=\"sk-estimator-id-10\" type=\"checkbox\" ><label for=\"sk-estimator-id-10\" class=\"sk-toggleable__label sk-toggleable__label-arrow\">KNeighborsClassifier</label><div class=\"sk-toggleable__content\"><pre>KNeighborsClassifier()</pre></div></div></div></div></div></div></div>"
      ],
      "text/plain": [
       "Pipeline(steps=[('ohe_and_scaling',\n",
       "                 ColumnTransformer(remainder='passthrough',\n",
       "                                   transformers=[('ohe',\n",
       "                                                  OneHotEncoder(handle_unknown='ignore',\n",
       "                                                                sparse_output=False),\n",
       "                                                  ['Sex', 'Pclass', 'SibSp',\n",
       "                                                   'Parch', 'Cabin',\n",
       "                                                   'Embarked']),\n",
       "                                                 ('scaling', StandardScaler(),\n",
       "                                                  ['Age', 'Fare'])])),\n",
       "                ('KNN', KNeighborsClassifier())])"
      ]
     },
     "execution_count": 210,
     "metadata": {},
     "output_type": "execute_result"
    }
   ],
   "source": [
    "# knn\n",
    "knn_classifier = Pipeline(\n",
    "    steps=[\n",
    "        (\"ohe_and_scaling\", column_transformer),\n",
    "        (\"KNN\", KNeighborsClassifier(n_neighbors=5),),]\n",
    ")\n",
    "\n",
    "knn_classifier.fit(X_train, y_train)"
   ]
  },
  {
   "cell_type": "code",
   "execution_count": 212,
   "metadata": {
    "execution": {
     "iopub.execute_input": "2024-12-07T23:23:29.712856Z",
     "iopub.status.busy": "2024-12-07T23:23:29.711899Z",
     "iopub.status.idle": "2024-12-07T23:23:29.744794Z",
     "shell.execute_reply": "2024-12-07T23:23:29.743771Z",
     "shell.execute_reply.started": "2024-12-07T23:23:29.712786Z"
    }
   },
   "outputs": [
    {
     "name": "stdout",
     "output_type": "stream",
     "text": [
      "CPU times: user 50.3 ms, sys: 4.98 ms, total: 55.3 ms\n",
      "Wall time: 24.5 ms\n"
     ]
    }
   ],
   "source": [
    "%%time\n",
    "y_pred_knn = knn_classifier.predict(X_test)"
   ]
  },
  {
   "cell_type": "code",
   "execution_count": 213,
   "metadata": {
    "execution": {
     "iopub.execute_input": "2024-12-07T23:23:31.268363Z",
     "iopub.status.busy": "2024-12-07T23:23:31.267972Z",
     "iopub.status.idle": "2024-12-07T23:23:31.296148Z",
     "shell.execute_reply": "2024-12-07T23:23:31.295056Z",
     "shell.execute_reply.started": "2024-12-07T23:23:31.268327Z"
    }
   },
   "outputs": [
    {
     "data": {
      "text/html": [
       "<div>\n",
       "<style scoped>\n",
       "    .dataframe tbody tr th:only-of-type {\n",
       "        vertical-align: middle;\n",
       "    }\n",
       "\n",
       "    .dataframe tbody tr th {\n",
       "        vertical-align: top;\n",
       "    }\n",
       "\n",
       "    .dataframe thead th {\n",
       "        text-align: right;\n",
       "    }\n",
       "</style>\n",
       "<table border=\"1\" class=\"dataframe\">\n",
       "  <thead>\n",
       "    <tr style=\"text-align: right;\">\n",
       "      <th></th>\n",
       "      <th>True Positive</th>\n",
       "      <th>True Negative</th>\n",
       "      <th>False Positive</th>\n",
       "      <th>False Negative</th>\n",
       "      <th>Negative Predictive Value</th>\n",
       "      <th>False Positive Rate</th>\n",
       "      <th>False Discovery Rate</th>\n",
       "      <th>accuracy</th>\n",
       "      <th>precision</th>\n",
       "      <th>recall</th>\n",
       "      <th>f1</th>\n",
       "    </tr>\n",
       "  </thead>\n",
       "  <tbody>\n",
       "    <tr>\n",
       "      <th>knn</th>\n",
       "      <td>46</td>\n",
       "      <td>94</td>\n",
       "      <td>16</td>\n",
       "      <td>23</td>\n",
       "      <td>0.803419</td>\n",
       "      <td>0.145455</td>\n",
       "      <td>0.333333</td>\n",
       "      <td>0.782123</td>\n",
       "      <td>0.741935</td>\n",
       "      <td>0.666667</td>\n",
       "      <td>0.70229</td>\n",
       "    </tr>\n",
       "  </tbody>\n",
       "</table>\n",
       "</div>"
      ],
      "text/plain": [
       "     True Positive  True Negative  False Positive  False Negative  \\\n",
       "knn             46             94              16              23   \n",
       "\n",
       "     Negative Predictive Value  False Positive Rate  False Discovery Rate  \\\n",
       "knn                   0.803419             0.145455              0.333333   \n",
       "\n",
       "     accuracy  precision    recall       f1  \n",
       "knn  0.782123   0.741935  0.666667  0.70229  "
      ]
     },
     "execution_count": 213,
     "metadata": {},
     "output_type": "execute_result"
    }
   ],
   "source": [
    "knn_metrics = calculate_metrics('knn',np.array(y_pred_knn),y_test)\n",
    "knn_metrics"
   ]
  },
  {
   "cell_type": "code",
   "execution_count": 220,
   "metadata": {
    "execution": {
     "iopub.execute_input": "2024-12-07T23:28:26.781002Z",
     "iopub.status.busy": "2024-12-07T23:28:26.780584Z",
     "iopub.status.idle": "2024-12-07T23:28:26.822919Z",
     "shell.execute_reply": "2024-12-07T23:28:26.821928Z",
     "shell.execute_reply.started": "2024-12-07T23:28:26.780967Z"
    }
   },
   "outputs": [
    {
     "data": {
      "text/html": [
       "<style>#sk-container-id-3 {color: black;background-color: white;}#sk-container-id-3 pre{padding: 0;}#sk-container-id-3 div.sk-toggleable {background-color: white;}#sk-container-id-3 label.sk-toggleable__label {cursor: pointer;display: block;width: 100%;margin-bottom: 0;padding: 0.3em;box-sizing: border-box;text-align: center;}#sk-container-id-3 label.sk-toggleable__label-arrow:before {content: \"▸\";float: left;margin-right: 0.25em;color: #696969;}#sk-container-id-3 label.sk-toggleable__label-arrow:hover:before {color: black;}#sk-container-id-3 div.sk-estimator:hover label.sk-toggleable__label-arrow:before {color: black;}#sk-container-id-3 div.sk-toggleable__content {max-height: 0;max-width: 0;overflow: hidden;text-align: left;background-color: #f0f8ff;}#sk-container-id-3 div.sk-toggleable__content pre {margin: 0.2em;color: black;border-radius: 0.25em;background-color: #f0f8ff;}#sk-container-id-3 input.sk-toggleable__control:checked~div.sk-toggleable__content {max-height: 200px;max-width: 100%;overflow: auto;}#sk-container-id-3 input.sk-toggleable__control:checked~label.sk-toggleable__label-arrow:before {content: \"▾\";}#sk-container-id-3 div.sk-estimator input.sk-toggleable__control:checked~label.sk-toggleable__label {background-color: #d4ebff;}#sk-container-id-3 div.sk-label input.sk-toggleable__control:checked~label.sk-toggleable__label {background-color: #d4ebff;}#sk-container-id-3 input.sk-hidden--visually {border: 0;clip: rect(1px 1px 1px 1px);clip: rect(1px, 1px, 1px, 1px);height: 1px;margin: -1px;overflow: hidden;padding: 0;position: absolute;width: 1px;}#sk-container-id-3 div.sk-estimator {font-family: monospace;background-color: #f0f8ff;border: 1px dotted black;border-radius: 0.25em;box-sizing: border-box;margin-bottom: 0.5em;}#sk-container-id-3 div.sk-estimator:hover {background-color: #d4ebff;}#sk-container-id-3 div.sk-parallel-item::after {content: \"\";width: 100%;border-bottom: 1px solid gray;flex-grow: 1;}#sk-container-id-3 div.sk-label:hover label.sk-toggleable__label {background-color: #d4ebff;}#sk-container-id-3 div.sk-serial::before {content: \"\";position: absolute;border-left: 1px solid gray;box-sizing: border-box;top: 0;bottom: 0;left: 50%;z-index: 0;}#sk-container-id-3 div.sk-serial {display: flex;flex-direction: column;align-items: center;background-color: white;padding-right: 0.2em;padding-left: 0.2em;position: relative;}#sk-container-id-3 div.sk-item {position: relative;z-index: 1;}#sk-container-id-3 div.sk-parallel {display: flex;align-items: stretch;justify-content: center;background-color: white;position: relative;}#sk-container-id-3 div.sk-item::before, #sk-container-id-3 div.sk-parallel-item::before {content: \"\";position: absolute;border-left: 1px solid gray;box-sizing: border-box;top: 0;bottom: 0;left: 50%;z-index: -1;}#sk-container-id-3 div.sk-parallel-item {display: flex;flex-direction: column;z-index: 1;position: relative;background-color: white;}#sk-container-id-3 div.sk-parallel-item:first-child::after {align-self: flex-end;width: 50%;}#sk-container-id-3 div.sk-parallel-item:last-child::after {align-self: flex-start;width: 50%;}#sk-container-id-3 div.sk-parallel-item:only-child::after {width: 0;}#sk-container-id-3 div.sk-dashed-wrapped {border: 1px dashed gray;margin: 0 0.4em 0.5em 0.4em;box-sizing: border-box;padding-bottom: 0.4em;background-color: white;}#sk-container-id-3 div.sk-label label {font-family: monospace;font-weight: bold;display: inline-block;line-height: 1.2em;}#sk-container-id-3 div.sk-label-container {text-align: center;}#sk-container-id-3 div.sk-container {/* jupyter's `normalize.less` sets `[hidden] { display: none; }` but bootstrap.min.css set `[hidden] { display: none !important; }` so we also need the `!important` here to be able to override the default hidden behavior on the sphinx rendered scikit-learn.org. See: https://github.com/scikit-learn/scikit-learn/issues/21755 */display: inline-block !important;position: relative;}#sk-container-id-3 div.sk-text-repr-fallback {display: none;}</style><div id=\"sk-container-id-3\" class=\"sk-top-container\"><div class=\"sk-text-repr-fallback\"><pre>Pipeline(steps=[(&#x27;ohe_and_scaling&#x27;,\n",
       "                 ColumnTransformer(remainder=&#x27;passthrough&#x27;,\n",
       "                                   transformers=[(&#x27;ohe&#x27;,\n",
       "                                                  OneHotEncoder(handle_unknown=&#x27;ignore&#x27;,\n",
       "                                                                sparse_output=False),\n",
       "                                                  [&#x27;Sex&#x27;, &#x27;Pclass&#x27;, &#x27;SibSp&#x27;,\n",
       "                                                   &#x27;Parch&#x27;, &#x27;Cabin&#x27;,\n",
       "                                                   &#x27;Embarked&#x27;]),\n",
       "                                                 (&#x27;scaling&#x27;, StandardScaler(),\n",
       "                                                  [&#x27;Age&#x27;, &#x27;Fare&#x27;])])),\n",
       "                (&#x27;KNN&#x27;, DecisionTreeClassifier())])</pre><b>In a Jupyter environment, please rerun this cell to show the HTML representation or trust the notebook. <br />On GitHub, the HTML representation is unable to render, please try loading this page with nbviewer.org.</b></div><div class=\"sk-container\" hidden><div class=\"sk-item sk-dashed-wrapped\"><div class=\"sk-label-container\"><div class=\"sk-label sk-toggleable\"><input class=\"sk-toggleable__control sk-hidden--visually\" id=\"sk-estimator-id-11\" type=\"checkbox\" ><label for=\"sk-estimator-id-11\" class=\"sk-toggleable__label sk-toggleable__label-arrow\">Pipeline</label><div class=\"sk-toggleable__content\"><pre>Pipeline(steps=[(&#x27;ohe_and_scaling&#x27;,\n",
       "                 ColumnTransformer(remainder=&#x27;passthrough&#x27;,\n",
       "                                   transformers=[(&#x27;ohe&#x27;,\n",
       "                                                  OneHotEncoder(handle_unknown=&#x27;ignore&#x27;,\n",
       "                                                                sparse_output=False),\n",
       "                                                  [&#x27;Sex&#x27;, &#x27;Pclass&#x27;, &#x27;SibSp&#x27;,\n",
       "                                                   &#x27;Parch&#x27;, &#x27;Cabin&#x27;,\n",
       "                                                   &#x27;Embarked&#x27;]),\n",
       "                                                 (&#x27;scaling&#x27;, StandardScaler(),\n",
       "                                                  [&#x27;Age&#x27;, &#x27;Fare&#x27;])])),\n",
       "                (&#x27;KNN&#x27;, DecisionTreeClassifier())])</pre></div></div></div><div class=\"sk-serial\"><div class=\"sk-item sk-dashed-wrapped\"><div class=\"sk-label-container\"><div class=\"sk-label sk-toggleable\"><input class=\"sk-toggleable__control sk-hidden--visually\" id=\"sk-estimator-id-12\" type=\"checkbox\" ><label for=\"sk-estimator-id-12\" class=\"sk-toggleable__label sk-toggleable__label-arrow\">ohe_and_scaling: ColumnTransformer</label><div class=\"sk-toggleable__content\"><pre>ColumnTransformer(remainder=&#x27;passthrough&#x27;,\n",
       "                  transformers=[(&#x27;ohe&#x27;,\n",
       "                                 OneHotEncoder(handle_unknown=&#x27;ignore&#x27;,\n",
       "                                               sparse_output=False),\n",
       "                                 [&#x27;Sex&#x27;, &#x27;Pclass&#x27;, &#x27;SibSp&#x27;, &#x27;Parch&#x27;, &#x27;Cabin&#x27;,\n",
       "                                  &#x27;Embarked&#x27;]),\n",
       "                                (&#x27;scaling&#x27;, StandardScaler(), [&#x27;Age&#x27;, &#x27;Fare&#x27;])])</pre></div></div></div><div class=\"sk-parallel\"><div class=\"sk-parallel-item\"><div class=\"sk-item\"><div class=\"sk-label-container\"><div class=\"sk-label sk-toggleable\"><input class=\"sk-toggleable__control sk-hidden--visually\" id=\"sk-estimator-id-13\" type=\"checkbox\" ><label for=\"sk-estimator-id-13\" class=\"sk-toggleable__label sk-toggleable__label-arrow\">ohe</label><div class=\"sk-toggleable__content\"><pre>[&#x27;Sex&#x27;, &#x27;Pclass&#x27;, &#x27;SibSp&#x27;, &#x27;Parch&#x27;, &#x27;Cabin&#x27;, &#x27;Embarked&#x27;]</pre></div></div></div><div class=\"sk-serial\"><div class=\"sk-item\"><div class=\"sk-estimator sk-toggleable\"><input class=\"sk-toggleable__control sk-hidden--visually\" id=\"sk-estimator-id-14\" type=\"checkbox\" ><label for=\"sk-estimator-id-14\" class=\"sk-toggleable__label sk-toggleable__label-arrow\">OneHotEncoder</label><div class=\"sk-toggleable__content\"><pre>OneHotEncoder(handle_unknown=&#x27;ignore&#x27;, sparse_output=False)</pre></div></div></div></div></div></div><div class=\"sk-parallel-item\"><div class=\"sk-item\"><div class=\"sk-label-container\"><div class=\"sk-label sk-toggleable\"><input class=\"sk-toggleable__control sk-hidden--visually\" id=\"sk-estimator-id-15\" type=\"checkbox\" ><label for=\"sk-estimator-id-15\" class=\"sk-toggleable__label sk-toggleable__label-arrow\">scaling</label><div class=\"sk-toggleable__content\"><pre>[&#x27;Age&#x27;, &#x27;Fare&#x27;]</pre></div></div></div><div class=\"sk-serial\"><div class=\"sk-item\"><div class=\"sk-estimator sk-toggleable\"><input class=\"sk-toggleable__control sk-hidden--visually\" id=\"sk-estimator-id-16\" type=\"checkbox\" ><label for=\"sk-estimator-id-16\" class=\"sk-toggleable__label sk-toggleable__label-arrow\">StandardScaler</label><div class=\"sk-toggleable__content\"><pre>StandardScaler()</pre></div></div></div></div></div></div><div class=\"sk-parallel-item\"><div class=\"sk-item\"><div class=\"sk-label-container\"><div class=\"sk-label sk-toggleable\"><input class=\"sk-toggleable__control sk-hidden--visually\" id=\"sk-estimator-id-17\" type=\"checkbox\" ><label for=\"sk-estimator-id-17\" class=\"sk-toggleable__label sk-toggleable__label-arrow\">remainder</label><div class=\"sk-toggleable__content\"><pre>[]</pre></div></div></div><div class=\"sk-serial\"><div class=\"sk-item\"><div class=\"sk-estimator sk-toggleable\"><input class=\"sk-toggleable__control sk-hidden--visually\" id=\"sk-estimator-id-18\" type=\"checkbox\" ><label for=\"sk-estimator-id-18\" class=\"sk-toggleable__label sk-toggleable__label-arrow\">passthrough</label><div class=\"sk-toggleable__content\"><pre>passthrough</pre></div></div></div></div></div></div></div></div><div class=\"sk-item\"><div class=\"sk-estimator sk-toggleable\"><input class=\"sk-toggleable__control sk-hidden--visually\" id=\"sk-estimator-id-19\" type=\"checkbox\" ><label for=\"sk-estimator-id-19\" class=\"sk-toggleable__label sk-toggleable__label-arrow\">DecisionTreeClassifier</label><div class=\"sk-toggleable__content\"><pre>DecisionTreeClassifier()</pre></div></div></div></div></div></div></div>"
      ],
      "text/plain": [
       "Pipeline(steps=[('ohe_and_scaling',\n",
       "                 ColumnTransformer(remainder='passthrough',\n",
       "                                   transformers=[('ohe',\n",
       "                                                  OneHotEncoder(handle_unknown='ignore',\n",
       "                                                                sparse_output=False),\n",
       "                                                  ['Sex', 'Pclass', 'SibSp',\n",
       "                                                   'Parch', 'Cabin',\n",
       "                                                   'Embarked']),\n",
       "                                                 ('scaling', StandardScaler(),\n",
       "                                                  ['Age', 'Fare'])])),\n",
       "                ('KNN', DecisionTreeClassifier())])"
      ]
     },
     "execution_count": 220,
     "metadata": {},
     "output_type": "execute_result"
    }
   ],
   "source": [
    "# Decision Tree\n",
    "DecisionTree_classifier = Pipeline(\n",
    "    steps=[\n",
    "        (\"ohe_and_scaling\", column_transformer),\n",
    "        (\"DecisionTree\", DecisionTreeClassifier(),),]\n",
    ")\n",
    "\n",
    "DecisionTree_classifier.fit(X_train, y_train)"
   ]
  },
  {
   "cell_type": "code",
   "execution_count": 221,
   "metadata": {
    "execution": {
     "iopub.execute_input": "2024-12-07T23:28:43.852682Z",
     "iopub.status.busy": "2024-12-07T23:28:43.852266Z",
     "iopub.status.idle": "2024-12-07T23:28:43.866978Z",
     "shell.execute_reply": "2024-12-07T23:28:43.865884Z",
     "shell.execute_reply.started": "2024-12-07T23:28:43.852648Z"
    }
   },
   "outputs": [
    {
     "name": "stdout",
     "output_type": "stream",
     "text": [
      "CPU times: user 8.67 ms, sys: 2.01 ms, total: 10.7 ms\n",
      "Wall time: 9.13 ms\n"
     ]
    }
   ],
   "source": [
    "%%time\n",
    "y_pred_dt = DecisionTree_classifier.predict(X_test)"
   ]
  },
  {
   "cell_type": "code",
   "execution_count": 222,
   "metadata": {
    "execution": {
     "iopub.execute_input": "2024-12-07T23:29:04.872695Z",
     "iopub.status.busy": "2024-12-07T23:29:04.872296Z",
     "iopub.status.idle": "2024-12-07T23:29:04.897902Z",
     "shell.execute_reply": "2024-12-07T23:29:04.896642Z",
     "shell.execute_reply.started": "2024-12-07T23:29:04.872660Z"
    }
   },
   "outputs": [
    {
     "data": {
      "text/html": [
       "<div>\n",
       "<style scoped>\n",
       "    .dataframe tbody tr th:only-of-type {\n",
       "        vertical-align: middle;\n",
       "    }\n",
       "\n",
       "    .dataframe tbody tr th {\n",
       "        vertical-align: top;\n",
       "    }\n",
       "\n",
       "    .dataframe thead th {\n",
       "        text-align: right;\n",
       "    }\n",
       "</style>\n",
       "<table border=\"1\" class=\"dataframe\">\n",
       "  <thead>\n",
       "    <tr style=\"text-align: right;\">\n",
       "      <th></th>\n",
       "      <th>True Positive</th>\n",
       "      <th>True Negative</th>\n",
       "      <th>False Positive</th>\n",
       "      <th>False Negative</th>\n",
       "      <th>Negative Predictive Value</th>\n",
       "      <th>False Positive Rate</th>\n",
       "      <th>False Discovery Rate</th>\n",
       "      <th>accuracy</th>\n",
       "      <th>precision</th>\n",
       "      <th>recall</th>\n",
       "      <th>f1</th>\n",
       "    </tr>\n",
       "  </thead>\n",
       "  <tbody>\n",
       "    <tr>\n",
       "      <th>decision tree</th>\n",
       "      <td>47</td>\n",
       "      <td>93</td>\n",
       "      <td>17</td>\n",
       "      <td>22</td>\n",
       "      <td>0.808696</td>\n",
       "      <td>0.154545</td>\n",
       "      <td>0.318841</td>\n",
       "      <td>0.782123</td>\n",
       "      <td>0.734375</td>\n",
       "      <td>0.681159</td>\n",
       "      <td>0.706767</td>\n",
       "    </tr>\n",
       "  </tbody>\n",
       "</table>\n",
       "</div>"
      ],
      "text/plain": [
       "               True Positive  True Negative  False Positive  False Negative  \\\n",
       "decision tree             47             93              17              22   \n",
       "\n",
       "               Negative Predictive Value  False Positive Rate  \\\n",
       "decision tree                   0.808696             0.154545   \n",
       "\n",
       "               False Discovery Rate  accuracy  precision    recall        f1  \n",
       "decision tree              0.318841  0.782123   0.734375  0.681159  0.706767  "
      ]
     },
     "execution_count": 222,
     "metadata": {},
     "output_type": "execute_result"
    }
   ],
   "source": [
    "dt_metrics = calculate_metrics('decision tree',np.array(y_pred_dt),y_test)\n",
    "dt_metrics"
   ]
  },
  {
   "cell_type": "code",
   "execution_count": 223,
   "metadata": {
    "execution": {
     "iopub.execute_input": "2024-12-07T23:29:31.289231Z",
     "iopub.status.busy": "2024-12-07T23:29:31.288793Z",
     "iopub.status.idle": "2024-12-07T23:29:31.375011Z",
     "shell.execute_reply": "2024-12-07T23:29:31.373908Z",
     "shell.execute_reply.started": "2024-12-07T23:29:31.289196Z"
    }
   },
   "outputs": [
    {
     "data": {
      "text/html": [
       "<style>#sk-container-id-4 {color: black;background-color: white;}#sk-container-id-4 pre{padding: 0;}#sk-container-id-4 div.sk-toggleable {background-color: white;}#sk-container-id-4 label.sk-toggleable__label {cursor: pointer;display: block;width: 100%;margin-bottom: 0;padding: 0.3em;box-sizing: border-box;text-align: center;}#sk-container-id-4 label.sk-toggleable__label-arrow:before {content: \"▸\";float: left;margin-right: 0.25em;color: #696969;}#sk-container-id-4 label.sk-toggleable__label-arrow:hover:before {color: black;}#sk-container-id-4 div.sk-estimator:hover label.sk-toggleable__label-arrow:before {color: black;}#sk-container-id-4 div.sk-toggleable__content {max-height: 0;max-width: 0;overflow: hidden;text-align: left;background-color: #f0f8ff;}#sk-container-id-4 div.sk-toggleable__content pre {margin: 0.2em;color: black;border-radius: 0.25em;background-color: #f0f8ff;}#sk-container-id-4 input.sk-toggleable__control:checked~div.sk-toggleable__content {max-height: 200px;max-width: 100%;overflow: auto;}#sk-container-id-4 input.sk-toggleable__control:checked~label.sk-toggleable__label-arrow:before {content: \"▾\";}#sk-container-id-4 div.sk-estimator input.sk-toggleable__control:checked~label.sk-toggleable__label {background-color: #d4ebff;}#sk-container-id-4 div.sk-label input.sk-toggleable__control:checked~label.sk-toggleable__label {background-color: #d4ebff;}#sk-container-id-4 input.sk-hidden--visually {border: 0;clip: rect(1px 1px 1px 1px);clip: rect(1px, 1px, 1px, 1px);height: 1px;margin: -1px;overflow: hidden;padding: 0;position: absolute;width: 1px;}#sk-container-id-4 div.sk-estimator {font-family: monospace;background-color: #f0f8ff;border: 1px dotted black;border-radius: 0.25em;box-sizing: border-box;margin-bottom: 0.5em;}#sk-container-id-4 div.sk-estimator:hover {background-color: #d4ebff;}#sk-container-id-4 div.sk-parallel-item::after {content: \"\";width: 100%;border-bottom: 1px solid gray;flex-grow: 1;}#sk-container-id-4 div.sk-label:hover label.sk-toggleable__label {background-color: #d4ebff;}#sk-container-id-4 div.sk-serial::before {content: \"\";position: absolute;border-left: 1px solid gray;box-sizing: border-box;top: 0;bottom: 0;left: 50%;z-index: 0;}#sk-container-id-4 div.sk-serial {display: flex;flex-direction: column;align-items: center;background-color: white;padding-right: 0.2em;padding-left: 0.2em;position: relative;}#sk-container-id-4 div.sk-item {position: relative;z-index: 1;}#sk-container-id-4 div.sk-parallel {display: flex;align-items: stretch;justify-content: center;background-color: white;position: relative;}#sk-container-id-4 div.sk-item::before, #sk-container-id-4 div.sk-parallel-item::before {content: \"\";position: absolute;border-left: 1px solid gray;box-sizing: border-box;top: 0;bottom: 0;left: 50%;z-index: -1;}#sk-container-id-4 div.sk-parallel-item {display: flex;flex-direction: column;z-index: 1;position: relative;background-color: white;}#sk-container-id-4 div.sk-parallel-item:first-child::after {align-self: flex-end;width: 50%;}#sk-container-id-4 div.sk-parallel-item:last-child::after {align-self: flex-start;width: 50%;}#sk-container-id-4 div.sk-parallel-item:only-child::after {width: 0;}#sk-container-id-4 div.sk-dashed-wrapped {border: 1px dashed gray;margin: 0 0.4em 0.5em 0.4em;box-sizing: border-box;padding-bottom: 0.4em;background-color: white;}#sk-container-id-4 div.sk-label label {font-family: monospace;font-weight: bold;display: inline-block;line-height: 1.2em;}#sk-container-id-4 div.sk-label-container {text-align: center;}#sk-container-id-4 div.sk-container {/* jupyter's `normalize.less` sets `[hidden] { display: none; }` but bootstrap.min.css set `[hidden] { display: none !important; }` so we also need the `!important` here to be able to override the default hidden behavior on the sphinx rendered scikit-learn.org. See: https://github.com/scikit-learn/scikit-learn/issues/21755 */display: inline-block !important;position: relative;}#sk-container-id-4 div.sk-text-repr-fallback {display: none;}</style><div id=\"sk-container-id-4\" class=\"sk-top-container\"><div class=\"sk-text-repr-fallback\"><pre>Pipeline(steps=[(&#x27;ohe_and_scaling&#x27;,\n",
       "                 ColumnTransformer(remainder=&#x27;passthrough&#x27;,\n",
       "                                   transformers=[(&#x27;ohe&#x27;,\n",
       "                                                  OneHotEncoder(handle_unknown=&#x27;ignore&#x27;,\n",
       "                                                                sparse_output=False),\n",
       "                                                  [&#x27;Sex&#x27;, &#x27;Pclass&#x27;, &#x27;SibSp&#x27;,\n",
       "                                                   &#x27;Parch&#x27;, &#x27;Cabin&#x27;,\n",
       "                                                   &#x27;Embarked&#x27;]),\n",
       "                                                 (&#x27;scaling&#x27;, StandardScaler(),\n",
       "                                                  [&#x27;Age&#x27;, &#x27;Fare&#x27;])])),\n",
       "                (&#x27;KNN&#x27;, LogisticRegression())])</pre><b>In a Jupyter environment, please rerun this cell to show the HTML representation or trust the notebook. <br />On GitHub, the HTML representation is unable to render, please try loading this page with nbviewer.org.</b></div><div class=\"sk-container\" hidden><div class=\"sk-item sk-dashed-wrapped\"><div class=\"sk-label-container\"><div class=\"sk-label sk-toggleable\"><input class=\"sk-toggleable__control sk-hidden--visually\" id=\"sk-estimator-id-20\" type=\"checkbox\" ><label for=\"sk-estimator-id-20\" class=\"sk-toggleable__label sk-toggleable__label-arrow\">Pipeline</label><div class=\"sk-toggleable__content\"><pre>Pipeline(steps=[(&#x27;ohe_and_scaling&#x27;,\n",
       "                 ColumnTransformer(remainder=&#x27;passthrough&#x27;,\n",
       "                                   transformers=[(&#x27;ohe&#x27;,\n",
       "                                                  OneHotEncoder(handle_unknown=&#x27;ignore&#x27;,\n",
       "                                                                sparse_output=False),\n",
       "                                                  [&#x27;Sex&#x27;, &#x27;Pclass&#x27;, &#x27;SibSp&#x27;,\n",
       "                                                   &#x27;Parch&#x27;, &#x27;Cabin&#x27;,\n",
       "                                                   &#x27;Embarked&#x27;]),\n",
       "                                                 (&#x27;scaling&#x27;, StandardScaler(),\n",
       "                                                  [&#x27;Age&#x27;, &#x27;Fare&#x27;])])),\n",
       "                (&#x27;KNN&#x27;, LogisticRegression())])</pre></div></div></div><div class=\"sk-serial\"><div class=\"sk-item sk-dashed-wrapped\"><div class=\"sk-label-container\"><div class=\"sk-label sk-toggleable\"><input class=\"sk-toggleable__control sk-hidden--visually\" id=\"sk-estimator-id-21\" type=\"checkbox\" ><label for=\"sk-estimator-id-21\" class=\"sk-toggleable__label sk-toggleable__label-arrow\">ohe_and_scaling: ColumnTransformer</label><div class=\"sk-toggleable__content\"><pre>ColumnTransformer(remainder=&#x27;passthrough&#x27;,\n",
       "                  transformers=[(&#x27;ohe&#x27;,\n",
       "                                 OneHotEncoder(handle_unknown=&#x27;ignore&#x27;,\n",
       "                                               sparse_output=False),\n",
       "                                 [&#x27;Sex&#x27;, &#x27;Pclass&#x27;, &#x27;SibSp&#x27;, &#x27;Parch&#x27;, &#x27;Cabin&#x27;,\n",
       "                                  &#x27;Embarked&#x27;]),\n",
       "                                (&#x27;scaling&#x27;, StandardScaler(), [&#x27;Age&#x27;, &#x27;Fare&#x27;])])</pre></div></div></div><div class=\"sk-parallel\"><div class=\"sk-parallel-item\"><div class=\"sk-item\"><div class=\"sk-label-container\"><div class=\"sk-label sk-toggleable\"><input class=\"sk-toggleable__control sk-hidden--visually\" id=\"sk-estimator-id-22\" type=\"checkbox\" ><label for=\"sk-estimator-id-22\" class=\"sk-toggleable__label sk-toggleable__label-arrow\">ohe</label><div class=\"sk-toggleable__content\"><pre>[&#x27;Sex&#x27;, &#x27;Pclass&#x27;, &#x27;SibSp&#x27;, &#x27;Parch&#x27;, &#x27;Cabin&#x27;, &#x27;Embarked&#x27;]</pre></div></div></div><div class=\"sk-serial\"><div class=\"sk-item\"><div class=\"sk-estimator sk-toggleable\"><input class=\"sk-toggleable__control sk-hidden--visually\" id=\"sk-estimator-id-23\" type=\"checkbox\" ><label for=\"sk-estimator-id-23\" class=\"sk-toggleable__label sk-toggleable__label-arrow\">OneHotEncoder</label><div class=\"sk-toggleable__content\"><pre>OneHotEncoder(handle_unknown=&#x27;ignore&#x27;, sparse_output=False)</pre></div></div></div></div></div></div><div class=\"sk-parallel-item\"><div class=\"sk-item\"><div class=\"sk-label-container\"><div class=\"sk-label sk-toggleable\"><input class=\"sk-toggleable__control sk-hidden--visually\" id=\"sk-estimator-id-24\" type=\"checkbox\" ><label for=\"sk-estimator-id-24\" class=\"sk-toggleable__label sk-toggleable__label-arrow\">scaling</label><div class=\"sk-toggleable__content\"><pre>[&#x27;Age&#x27;, &#x27;Fare&#x27;]</pre></div></div></div><div class=\"sk-serial\"><div class=\"sk-item\"><div class=\"sk-estimator sk-toggleable\"><input class=\"sk-toggleable__control sk-hidden--visually\" id=\"sk-estimator-id-25\" type=\"checkbox\" ><label for=\"sk-estimator-id-25\" class=\"sk-toggleable__label sk-toggleable__label-arrow\">StandardScaler</label><div class=\"sk-toggleable__content\"><pre>StandardScaler()</pre></div></div></div></div></div></div><div class=\"sk-parallel-item\"><div class=\"sk-item\"><div class=\"sk-label-container\"><div class=\"sk-label sk-toggleable\"><input class=\"sk-toggleable__control sk-hidden--visually\" id=\"sk-estimator-id-26\" type=\"checkbox\" ><label for=\"sk-estimator-id-26\" class=\"sk-toggleable__label sk-toggleable__label-arrow\">remainder</label><div class=\"sk-toggleable__content\"><pre>[]</pre></div></div></div><div class=\"sk-serial\"><div class=\"sk-item\"><div class=\"sk-estimator sk-toggleable\"><input class=\"sk-toggleable__control sk-hidden--visually\" id=\"sk-estimator-id-27\" type=\"checkbox\" ><label for=\"sk-estimator-id-27\" class=\"sk-toggleable__label sk-toggleable__label-arrow\">passthrough</label><div class=\"sk-toggleable__content\"><pre>passthrough</pre></div></div></div></div></div></div></div></div><div class=\"sk-item\"><div class=\"sk-estimator sk-toggleable\"><input class=\"sk-toggleable__control sk-hidden--visually\" id=\"sk-estimator-id-28\" type=\"checkbox\" ><label for=\"sk-estimator-id-28\" class=\"sk-toggleable__label sk-toggleable__label-arrow\">LogisticRegression</label><div class=\"sk-toggleable__content\"><pre>LogisticRegression()</pre></div></div></div></div></div></div></div>"
      ],
      "text/plain": [
       "Pipeline(steps=[('ohe_and_scaling',\n",
       "                 ColumnTransformer(remainder='passthrough',\n",
       "                                   transformers=[('ohe',\n",
       "                                                  OneHotEncoder(handle_unknown='ignore',\n",
       "                                                                sparse_output=False),\n",
       "                                                  ['Sex', 'Pclass', 'SibSp',\n",
       "                                                   'Parch', 'Cabin',\n",
       "                                                   'Embarked']),\n",
       "                                                 ('scaling', StandardScaler(),\n",
       "                                                  ['Age', 'Fare'])])),\n",
       "                ('KNN', LogisticRegression())])"
      ]
     },
     "execution_count": 223,
     "metadata": {},
     "output_type": "execute_result"
    }
   ],
   "source": [
    "# Logistic Regression\n",
    "LogisticRegression_classifier = Pipeline(\n",
    "    steps=[\n",
    "        (\"ohe_and_scaling\", column_transformer),\n",
    "        (\"LogisticRegression\", LogisticRegression(),),]\n",
    ")\n",
    "\n",
    "LogisticRegression_classifier.fit(X_train, y_train)"
   ]
  },
  {
   "cell_type": "code",
   "execution_count": 224,
   "metadata": {
    "execution": {
     "iopub.execute_input": "2024-12-07T23:29:57.068863Z",
     "iopub.status.busy": "2024-12-07T23:29:57.068449Z",
     "iopub.status.idle": "2024-12-07T23:29:57.083621Z",
     "shell.execute_reply": "2024-12-07T23:29:57.082448Z",
     "shell.execute_reply.started": "2024-12-07T23:29:57.068813Z"
    }
   },
   "outputs": [
    {
     "name": "stdout",
     "output_type": "stream",
     "text": [
      "CPU times: user 6.11 ms, sys: 3.96 ms, total: 10.1 ms\n",
      "Wall time: 8.84 ms\n"
     ]
    }
   ],
   "source": [
    "%%time\n",
    "y_pred_lr = LogisticRegression_classifier.predict(X_test)"
   ]
  },
  {
   "cell_type": "code",
   "execution_count": 225,
   "metadata": {
    "execution": {
     "iopub.execute_input": "2024-12-07T23:30:17.422778Z",
     "iopub.status.busy": "2024-12-07T23:30:17.422344Z",
     "iopub.status.idle": "2024-12-07T23:30:17.447969Z",
     "shell.execute_reply": "2024-12-07T23:30:17.446984Z",
     "shell.execute_reply.started": "2024-12-07T23:30:17.422741Z"
    }
   },
   "outputs": [
    {
     "data": {
      "text/html": [
       "<div>\n",
       "<style scoped>\n",
       "    .dataframe tbody tr th:only-of-type {\n",
       "        vertical-align: middle;\n",
       "    }\n",
       "\n",
       "    .dataframe tbody tr th {\n",
       "        vertical-align: top;\n",
       "    }\n",
       "\n",
       "    .dataframe thead th {\n",
       "        text-align: right;\n",
       "    }\n",
       "</style>\n",
       "<table border=\"1\" class=\"dataframe\">\n",
       "  <thead>\n",
       "    <tr style=\"text-align: right;\">\n",
       "      <th></th>\n",
       "      <th>True Positive</th>\n",
       "      <th>True Negative</th>\n",
       "      <th>False Positive</th>\n",
       "      <th>False Negative</th>\n",
       "      <th>Negative Predictive Value</th>\n",
       "      <th>False Positive Rate</th>\n",
       "      <th>False Discovery Rate</th>\n",
       "      <th>accuracy</th>\n",
       "      <th>precision</th>\n",
       "      <th>recall</th>\n",
       "      <th>f1</th>\n",
       "    </tr>\n",
       "  </thead>\n",
       "  <tbody>\n",
       "    <tr>\n",
       "      <th>logistic regression</th>\n",
       "      <td>48</td>\n",
       "      <td>98</td>\n",
       "      <td>12</td>\n",
       "      <td>21</td>\n",
       "      <td>0.823529</td>\n",
       "      <td>0.109091</td>\n",
       "      <td>0.304348</td>\n",
       "      <td>0.815642</td>\n",
       "      <td>0.8</td>\n",
       "      <td>0.695652</td>\n",
       "      <td>0.744186</td>\n",
       "    </tr>\n",
       "  </tbody>\n",
       "</table>\n",
       "</div>"
      ],
      "text/plain": [
       "                     True Positive  True Negative  False Positive  \\\n",
       "logistic regression             48             98              12   \n",
       "\n",
       "                     False Negative  Negative Predictive Value  \\\n",
       "logistic regression              21                   0.823529   \n",
       "\n",
       "                     False Positive Rate  False Discovery Rate  accuracy  \\\n",
       "logistic regression             0.109091              0.304348  0.815642   \n",
       "\n",
       "                     precision    recall        f1  \n",
       "logistic regression        0.8  0.695652  0.744186  "
      ]
     },
     "execution_count": 225,
     "metadata": {},
     "output_type": "execute_result"
    }
   ],
   "source": [
    "lr_metrics = calculate_metrics('logistic regression',np.array(y_pred_lr),y_test)\n",
    "lr_metrics"
   ]
  },
  {
   "cell_type": "code",
   "execution_count": 226,
   "metadata": {
    "execution": {
     "iopub.execute_input": "2024-12-07T23:35:06.669873Z",
     "iopub.status.busy": "2024-12-07T23:35:06.668662Z",
     "iopub.status.idle": "2024-12-07T23:35:06.905149Z",
     "shell.execute_reply": "2024-12-07T23:35:06.904155Z",
     "shell.execute_reply.started": "2024-12-07T23:35:06.669798Z"
    }
   },
   "outputs": [
    {
     "data": {
      "text/html": [
       "<style>#sk-container-id-5 {color: black;background-color: white;}#sk-container-id-5 pre{padding: 0;}#sk-container-id-5 div.sk-toggleable {background-color: white;}#sk-container-id-5 label.sk-toggleable__label {cursor: pointer;display: block;width: 100%;margin-bottom: 0;padding: 0.3em;box-sizing: border-box;text-align: center;}#sk-container-id-5 label.sk-toggleable__label-arrow:before {content: \"▸\";float: left;margin-right: 0.25em;color: #696969;}#sk-container-id-5 label.sk-toggleable__label-arrow:hover:before {color: black;}#sk-container-id-5 div.sk-estimator:hover label.sk-toggleable__label-arrow:before {color: black;}#sk-container-id-5 div.sk-toggleable__content {max-height: 0;max-width: 0;overflow: hidden;text-align: left;background-color: #f0f8ff;}#sk-container-id-5 div.sk-toggleable__content pre {margin: 0.2em;color: black;border-radius: 0.25em;background-color: #f0f8ff;}#sk-container-id-5 input.sk-toggleable__control:checked~div.sk-toggleable__content {max-height: 200px;max-width: 100%;overflow: auto;}#sk-container-id-5 input.sk-toggleable__control:checked~label.sk-toggleable__label-arrow:before {content: \"▾\";}#sk-container-id-5 div.sk-estimator input.sk-toggleable__control:checked~label.sk-toggleable__label {background-color: #d4ebff;}#sk-container-id-5 div.sk-label input.sk-toggleable__control:checked~label.sk-toggleable__label {background-color: #d4ebff;}#sk-container-id-5 input.sk-hidden--visually {border: 0;clip: rect(1px 1px 1px 1px);clip: rect(1px, 1px, 1px, 1px);height: 1px;margin: -1px;overflow: hidden;padding: 0;position: absolute;width: 1px;}#sk-container-id-5 div.sk-estimator {font-family: monospace;background-color: #f0f8ff;border: 1px dotted black;border-radius: 0.25em;box-sizing: border-box;margin-bottom: 0.5em;}#sk-container-id-5 div.sk-estimator:hover {background-color: #d4ebff;}#sk-container-id-5 div.sk-parallel-item::after {content: \"\";width: 100%;border-bottom: 1px solid gray;flex-grow: 1;}#sk-container-id-5 div.sk-label:hover label.sk-toggleable__label {background-color: #d4ebff;}#sk-container-id-5 div.sk-serial::before {content: \"\";position: absolute;border-left: 1px solid gray;box-sizing: border-box;top: 0;bottom: 0;left: 50%;z-index: 0;}#sk-container-id-5 div.sk-serial {display: flex;flex-direction: column;align-items: center;background-color: white;padding-right: 0.2em;padding-left: 0.2em;position: relative;}#sk-container-id-5 div.sk-item {position: relative;z-index: 1;}#sk-container-id-5 div.sk-parallel {display: flex;align-items: stretch;justify-content: center;background-color: white;position: relative;}#sk-container-id-5 div.sk-item::before, #sk-container-id-5 div.sk-parallel-item::before {content: \"\";position: absolute;border-left: 1px solid gray;box-sizing: border-box;top: 0;bottom: 0;left: 50%;z-index: -1;}#sk-container-id-5 div.sk-parallel-item {display: flex;flex-direction: column;z-index: 1;position: relative;background-color: white;}#sk-container-id-5 div.sk-parallel-item:first-child::after {align-self: flex-end;width: 50%;}#sk-container-id-5 div.sk-parallel-item:last-child::after {align-self: flex-start;width: 50%;}#sk-container-id-5 div.sk-parallel-item:only-child::after {width: 0;}#sk-container-id-5 div.sk-dashed-wrapped {border: 1px dashed gray;margin: 0 0.4em 0.5em 0.4em;box-sizing: border-box;padding-bottom: 0.4em;background-color: white;}#sk-container-id-5 div.sk-label label {font-family: monospace;font-weight: bold;display: inline-block;line-height: 1.2em;}#sk-container-id-5 div.sk-label-container {text-align: center;}#sk-container-id-5 div.sk-container {/* jupyter's `normalize.less` sets `[hidden] { display: none; }` but bootstrap.min.css set `[hidden] { display: none !important; }` so we also need the `!important` here to be able to override the default hidden behavior on the sphinx rendered scikit-learn.org. See: https://github.com/scikit-learn/scikit-learn/issues/21755 */display: inline-block !important;position: relative;}#sk-container-id-5 div.sk-text-repr-fallback {display: none;}</style><div id=\"sk-container-id-5\" class=\"sk-top-container\"><div class=\"sk-text-repr-fallback\"><pre>Pipeline(steps=[(&#x27;ohe_and_scaling&#x27;,\n",
       "                 ColumnTransformer(remainder=&#x27;passthrough&#x27;,\n",
       "                                   transformers=[(&#x27;ohe&#x27;,\n",
       "                                                  OneHotEncoder(handle_unknown=&#x27;ignore&#x27;,\n",
       "                                                                sparse_output=False),\n",
       "                                                  [&#x27;Sex&#x27;, &#x27;Pclass&#x27;, &#x27;SibSp&#x27;,\n",
       "                                                   &#x27;Parch&#x27;, &#x27;Cabin&#x27;,\n",
       "                                                   &#x27;Embarked&#x27;]),\n",
       "                                                 (&#x27;scaling&#x27;, StandardScaler(),\n",
       "                                                  [&#x27;Age&#x27;, &#x27;Fare&#x27;])])),\n",
       "                (&#x27;LogisticRegression&#x27;, RandomForestClassifier())])</pre><b>In a Jupyter environment, please rerun this cell to show the HTML representation or trust the notebook. <br />On GitHub, the HTML representation is unable to render, please try loading this page with nbviewer.org.</b></div><div class=\"sk-container\" hidden><div class=\"sk-item sk-dashed-wrapped\"><div class=\"sk-label-container\"><div class=\"sk-label sk-toggleable\"><input class=\"sk-toggleable__control sk-hidden--visually\" id=\"sk-estimator-id-29\" type=\"checkbox\" ><label for=\"sk-estimator-id-29\" class=\"sk-toggleable__label sk-toggleable__label-arrow\">Pipeline</label><div class=\"sk-toggleable__content\"><pre>Pipeline(steps=[(&#x27;ohe_and_scaling&#x27;,\n",
       "                 ColumnTransformer(remainder=&#x27;passthrough&#x27;,\n",
       "                                   transformers=[(&#x27;ohe&#x27;,\n",
       "                                                  OneHotEncoder(handle_unknown=&#x27;ignore&#x27;,\n",
       "                                                                sparse_output=False),\n",
       "                                                  [&#x27;Sex&#x27;, &#x27;Pclass&#x27;, &#x27;SibSp&#x27;,\n",
       "                                                   &#x27;Parch&#x27;, &#x27;Cabin&#x27;,\n",
       "                                                   &#x27;Embarked&#x27;]),\n",
       "                                                 (&#x27;scaling&#x27;, StandardScaler(),\n",
       "                                                  [&#x27;Age&#x27;, &#x27;Fare&#x27;])])),\n",
       "                (&#x27;LogisticRegression&#x27;, RandomForestClassifier())])</pre></div></div></div><div class=\"sk-serial\"><div class=\"sk-item sk-dashed-wrapped\"><div class=\"sk-label-container\"><div class=\"sk-label sk-toggleable\"><input class=\"sk-toggleable__control sk-hidden--visually\" id=\"sk-estimator-id-30\" type=\"checkbox\" ><label for=\"sk-estimator-id-30\" class=\"sk-toggleable__label sk-toggleable__label-arrow\">ohe_and_scaling: ColumnTransformer</label><div class=\"sk-toggleable__content\"><pre>ColumnTransformer(remainder=&#x27;passthrough&#x27;,\n",
       "                  transformers=[(&#x27;ohe&#x27;,\n",
       "                                 OneHotEncoder(handle_unknown=&#x27;ignore&#x27;,\n",
       "                                               sparse_output=False),\n",
       "                                 [&#x27;Sex&#x27;, &#x27;Pclass&#x27;, &#x27;SibSp&#x27;, &#x27;Parch&#x27;, &#x27;Cabin&#x27;,\n",
       "                                  &#x27;Embarked&#x27;]),\n",
       "                                (&#x27;scaling&#x27;, StandardScaler(), [&#x27;Age&#x27;, &#x27;Fare&#x27;])])</pre></div></div></div><div class=\"sk-parallel\"><div class=\"sk-parallel-item\"><div class=\"sk-item\"><div class=\"sk-label-container\"><div class=\"sk-label sk-toggleable\"><input class=\"sk-toggleable__control sk-hidden--visually\" id=\"sk-estimator-id-31\" type=\"checkbox\" ><label for=\"sk-estimator-id-31\" class=\"sk-toggleable__label sk-toggleable__label-arrow\">ohe</label><div class=\"sk-toggleable__content\"><pre>[&#x27;Sex&#x27;, &#x27;Pclass&#x27;, &#x27;SibSp&#x27;, &#x27;Parch&#x27;, &#x27;Cabin&#x27;, &#x27;Embarked&#x27;]</pre></div></div></div><div class=\"sk-serial\"><div class=\"sk-item\"><div class=\"sk-estimator sk-toggleable\"><input class=\"sk-toggleable__control sk-hidden--visually\" id=\"sk-estimator-id-32\" type=\"checkbox\" ><label for=\"sk-estimator-id-32\" class=\"sk-toggleable__label sk-toggleable__label-arrow\">OneHotEncoder</label><div class=\"sk-toggleable__content\"><pre>OneHotEncoder(handle_unknown=&#x27;ignore&#x27;, sparse_output=False)</pre></div></div></div></div></div></div><div class=\"sk-parallel-item\"><div class=\"sk-item\"><div class=\"sk-label-container\"><div class=\"sk-label sk-toggleable\"><input class=\"sk-toggleable__control sk-hidden--visually\" id=\"sk-estimator-id-33\" type=\"checkbox\" ><label for=\"sk-estimator-id-33\" class=\"sk-toggleable__label sk-toggleable__label-arrow\">scaling</label><div class=\"sk-toggleable__content\"><pre>[&#x27;Age&#x27;, &#x27;Fare&#x27;]</pre></div></div></div><div class=\"sk-serial\"><div class=\"sk-item\"><div class=\"sk-estimator sk-toggleable\"><input class=\"sk-toggleable__control sk-hidden--visually\" id=\"sk-estimator-id-34\" type=\"checkbox\" ><label for=\"sk-estimator-id-34\" class=\"sk-toggleable__label sk-toggleable__label-arrow\">StandardScaler</label><div class=\"sk-toggleable__content\"><pre>StandardScaler()</pre></div></div></div></div></div></div><div class=\"sk-parallel-item\"><div class=\"sk-item\"><div class=\"sk-label-container\"><div class=\"sk-label sk-toggleable\"><input class=\"sk-toggleable__control sk-hidden--visually\" id=\"sk-estimator-id-35\" type=\"checkbox\" ><label for=\"sk-estimator-id-35\" class=\"sk-toggleable__label sk-toggleable__label-arrow\">remainder</label><div class=\"sk-toggleable__content\"><pre>[]</pre></div></div></div><div class=\"sk-serial\"><div class=\"sk-item\"><div class=\"sk-estimator sk-toggleable\"><input class=\"sk-toggleable__control sk-hidden--visually\" id=\"sk-estimator-id-36\" type=\"checkbox\" ><label for=\"sk-estimator-id-36\" class=\"sk-toggleable__label sk-toggleable__label-arrow\">passthrough</label><div class=\"sk-toggleable__content\"><pre>passthrough</pre></div></div></div></div></div></div></div></div><div class=\"sk-item\"><div class=\"sk-estimator sk-toggleable\"><input class=\"sk-toggleable__control sk-hidden--visually\" id=\"sk-estimator-id-37\" type=\"checkbox\" ><label for=\"sk-estimator-id-37\" class=\"sk-toggleable__label sk-toggleable__label-arrow\">RandomForestClassifier</label><div class=\"sk-toggleable__content\"><pre>RandomForestClassifier()</pre></div></div></div></div></div></div></div>"
      ],
      "text/plain": [
       "Pipeline(steps=[('ohe_and_scaling',\n",
       "                 ColumnTransformer(remainder='passthrough',\n",
       "                                   transformers=[('ohe',\n",
       "                                                  OneHotEncoder(handle_unknown='ignore',\n",
       "                                                                sparse_output=False),\n",
       "                                                  ['Sex', 'Pclass', 'SibSp',\n",
       "                                                   'Parch', 'Cabin',\n",
       "                                                   'Embarked']),\n",
       "                                                 ('scaling', StandardScaler(),\n",
       "                                                  ['Age', 'Fare'])])),\n",
       "                ('LogisticRegression', RandomForestClassifier())])"
      ]
     },
     "execution_count": 226,
     "metadata": {},
     "output_type": "execute_result"
    }
   ],
   "source": [
    "# Random Forest\n",
    "RandomForest_classifier = Pipeline(\n",
    "    steps=[\n",
    "        (\"ohe_and_scaling\", column_transformer),\n",
    "        (\"LogisticRegression\", RandomForestClassifier(),),]\n",
    ")\n",
    "\n",
    "RandomForest_classifier.fit(X_train, y_train)"
   ]
  },
  {
   "cell_type": "code",
   "execution_count": 227,
   "metadata": {
    "execution": {
     "iopub.execute_input": "2024-12-07T23:35:22.626775Z",
     "iopub.status.busy": "2024-12-07T23:35:22.626348Z",
     "iopub.status.idle": "2024-12-07T23:35:22.650854Z",
     "shell.execute_reply": "2024-12-07T23:35:22.649489Z",
     "shell.execute_reply.started": "2024-12-07T23:35:22.626716Z"
    }
   },
   "outputs": [
    {
     "name": "stdout",
     "output_type": "stream",
     "text": [
      "CPU times: user 18.6 ms, sys: 1.01 ms, total: 19.6 ms\n",
      "Wall time: 18.3 ms\n"
     ]
    }
   ],
   "source": [
    "%%time\n",
    "y_pred_rf = RandomForest_classifier.predict(X_test)"
   ]
  },
  {
   "cell_type": "code",
   "execution_count": 228,
   "metadata": {
    "execution": {
     "iopub.execute_input": "2024-12-07T23:35:45.725331Z",
     "iopub.status.busy": "2024-12-07T23:35:45.724951Z",
     "iopub.status.idle": "2024-12-07T23:35:45.752277Z",
     "shell.execute_reply": "2024-12-07T23:35:45.751253Z",
     "shell.execute_reply.started": "2024-12-07T23:35:45.725300Z"
    }
   },
   "outputs": [
    {
     "data": {
      "text/html": [
       "<div>\n",
       "<style scoped>\n",
       "    .dataframe tbody tr th:only-of-type {\n",
       "        vertical-align: middle;\n",
       "    }\n",
       "\n",
       "    .dataframe tbody tr th {\n",
       "        vertical-align: top;\n",
       "    }\n",
       "\n",
       "    .dataframe thead th {\n",
       "        text-align: right;\n",
       "    }\n",
       "</style>\n",
       "<table border=\"1\" class=\"dataframe\">\n",
       "  <thead>\n",
       "    <tr style=\"text-align: right;\">\n",
       "      <th></th>\n",
       "      <th>True Positive</th>\n",
       "      <th>True Negative</th>\n",
       "      <th>False Positive</th>\n",
       "      <th>False Negative</th>\n",
       "      <th>Negative Predictive Value</th>\n",
       "      <th>False Positive Rate</th>\n",
       "      <th>False Discovery Rate</th>\n",
       "      <th>accuracy</th>\n",
       "      <th>precision</th>\n",
       "      <th>recall</th>\n",
       "      <th>f1</th>\n",
       "    </tr>\n",
       "  </thead>\n",
       "  <tbody>\n",
       "    <tr>\n",
       "      <th>random forest</th>\n",
       "      <td>50</td>\n",
       "      <td>97</td>\n",
       "      <td>13</td>\n",
       "      <td>19</td>\n",
       "      <td>0.836207</td>\n",
       "      <td>0.118182</td>\n",
       "      <td>0.275362</td>\n",
       "      <td>0.821229</td>\n",
       "      <td>0.793651</td>\n",
       "      <td>0.724638</td>\n",
       "      <td>0.757576</td>\n",
       "    </tr>\n",
       "  </tbody>\n",
       "</table>\n",
       "</div>"
      ],
      "text/plain": [
       "               True Positive  True Negative  False Positive  False Negative  \\\n",
       "random forest             50             97              13              19   \n",
       "\n",
       "               Negative Predictive Value  False Positive Rate  \\\n",
       "random forest                   0.836207             0.118182   \n",
       "\n",
       "               False Discovery Rate  accuracy  precision    recall        f1  \n",
       "random forest              0.275362  0.821229   0.793651  0.724638  0.757576  "
      ]
     },
     "execution_count": 228,
     "metadata": {},
     "output_type": "execute_result"
    }
   ],
   "source": [
    "rf_metrics = calculate_metrics('random forest',np.array(y_pred_rf),y_test)\n",
    "rf_metrics"
   ]
  },
  {
   "cell_type": "code",
   "execution_count": 236,
   "metadata": {
    "execution": {
     "iopub.execute_input": "2024-12-07T23:39:14.802134Z",
     "iopub.status.busy": "2024-12-07T23:39:14.801735Z",
     "iopub.status.idle": "2024-12-07T23:39:14.863361Z",
     "shell.execute_reply": "2024-12-07T23:39:14.862291Z",
     "shell.execute_reply.started": "2024-12-07T23:39:14.802101Z"
    }
   },
   "outputs": [
    {
     "data": {
      "text/html": [
       "<style>#sk-container-id-8 {color: black;background-color: white;}#sk-container-id-8 pre{padding: 0;}#sk-container-id-8 div.sk-toggleable {background-color: white;}#sk-container-id-8 label.sk-toggleable__label {cursor: pointer;display: block;width: 100%;margin-bottom: 0;padding: 0.3em;box-sizing: border-box;text-align: center;}#sk-container-id-8 label.sk-toggleable__label-arrow:before {content: \"▸\";float: left;margin-right: 0.25em;color: #696969;}#sk-container-id-8 label.sk-toggleable__label-arrow:hover:before {color: black;}#sk-container-id-8 div.sk-estimator:hover label.sk-toggleable__label-arrow:before {color: black;}#sk-container-id-8 div.sk-toggleable__content {max-height: 0;max-width: 0;overflow: hidden;text-align: left;background-color: #f0f8ff;}#sk-container-id-8 div.sk-toggleable__content pre {margin: 0.2em;color: black;border-radius: 0.25em;background-color: #f0f8ff;}#sk-container-id-8 input.sk-toggleable__control:checked~div.sk-toggleable__content {max-height: 200px;max-width: 100%;overflow: auto;}#sk-container-id-8 input.sk-toggleable__control:checked~label.sk-toggleable__label-arrow:before {content: \"▾\";}#sk-container-id-8 div.sk-estimator input.sk-toggleable__control:checked~label.sk-toggleable__label {background-color: #d4ebff;}#sk-container-id-8 div.sk-label input.sk-toggleable__control:checked~label.sk-toggleable__label {background-color: #d4ebff;}#sk-container-id-8 input.sk-hidden--visually {border: 0;clip: rect(1px 1px 1px 1px);clip: rect(1px, 1px, 1px, 1px);height: 1px;margin: -1px;overflow: hidden;padding: 0;position: absolute;width: 1px;}#sk-container-id-8 div.sk-estimator {font-family: monospace;background-color: #f0f8ff;border: 1px dotted black;border-radius: 0.25em;box-sizing: border-box;margin-bottom: 0.5em;}#sk-container-id-8 div.sk-estimator:hover {background-color: #d4ebff;}#sk-container-id-8 div.sk-parallel-item::after {content: \"\";width: 100%;border-bottom: 1px solid gray;flex-grow: 1;}#sk-container-id-8 div.sk-label:hover label.sk-toggleable__label {background-color: #d4ebff;}#sk-container-id-8 div.sk-serial::before {content: \"\";position: absolute;border-left: 1px solid gray;box-sizing: border-box;top: 0;bottom: 0;left: 50%;z-index: 0;}#sk-container-id-8 div.sk-serial {display: flex;flex-direction: column;align-items: center;background-color: white;padding-right: 0.2em;padding-left: 0.2em;position: relative;}#sk-container-id-8 div.sk-item {position: relative;z-index: 1;}#sk-container-id-8 div.sk-parallel {display: flex;align-items: stretch;justify-content: center;background-color: white;position: relative;}#sk-container-id-8 div.sk-item::before, #sk-container-id-8 div.sk-parallel-item::before {content: \"\";position: absolute;border-left: 1px solid gray;box-sizing: border-box;top: 0;bottom: 0;left: 50%;z-index: -1;}#sk-container-id-8 div.sk-parallel-item {display: flex;flex-direction: column;z-index: 1;position: relative;background-color: white;}#sk-container-id-8 div.sk-parallel-item:first-child::after {align-self: flex-end;width: 50%;}#sk-container-id-8 div.sk-parallel-item:last-child::after {align-self: flex-start;width: 50%;}#sk-container-id-8 div.sk-parallel-item:only-child::after {width: 0;}#sk-container-id-8 div.sk-dashed-wrapped {border: 1px dashed gray;margin: 0 0.4em 0.5em 0.4em;box-sizing: border-box;padding-bottom: 0.4em;background-color: white;}#sk-container-id-8 div.sk-label label {font-family: monospace;font-weight: bold;display: inline-block;line-height: 1.2em;}#sk-container-id-8 div.sk-label-container {text-align: center;}#sk-container-id-8 div.sk-container {/* jupyter's `normalize.less` sets `[hidden] { display: none; }` but bootstrap.min.css set `[hidden] { display: none !important; }` so we also need the `!important` here to be able to override the default hidden behavior on the sphinx rendered scikit-learn.org. See: https://github.com/scikit-learn/scikit-learn/issues/21755 */display: inline-block !important;position: relative;}#sk-container-id-8 div.sk-text-repr-fallback {display: none;}</style><div id=\"sk-container-id-8\" class=\"sk-top-container\"><div class=\"sk-text-repr-fallback\"><pre>Pipeline(steps=[(&#x27;ohe_and_scaling&#x27;,\n",
       "                 ColumnTransformer(remainder=&#x27;passthrough&#x27;,\n",
       "                                   transformers=[(&#x27;ohe&#x27;,\n",
       "                                                  OneHotEncoder(handle_unknown=&#x27;ignore&#x27;,\n",
       "                                                                sparse_output=False),\n",
       "                                                  [&#x27;Sex&#x27;, &#x27;Pclass&#x27;, &#x27;SibSp&#x27;,\n",
       "                                                   &#x27;Parch&#x27;, &#x27;Cabin&#x27;,\n",
       "                                                   &#x27;Embarked&#x27;]),\n",
       "                                                 (&#x27;scaling&#x27;, StandardScaler(),\n",
       "                                                  [&#x27;Age&#x27;, &#x27;Fare&#x27;])])),\n",
       "                (&#x27;LogisticRegression&#x27;,\n",
       "                 XGBClassifier(base_score=None, booster=None, callbacks=None,\n",
       "                               colsample_byl...\n",
       "                               feature_types=None, gamma=None, grow_policy=None,\n",
       "                               importance_type=None,\n",
       "                               interaction_constraints=None, learning_rate=None,\n",
       "                               max_bin=None, max_cat_threshold=None,\n",
       "                               max_cat_to_onehot=None, max_delta_step=None,\n",
       "                               max_depth=None, max_leaves=None,\n",
       "                               min_child_weight=None, missing=nan,\n",
       "                               monotone_constraints=None, multi_strategy=None,\n",
       "                               n_estimators=15, n_jobs=None,\n",
       "                               num_parallel_tree=None, random_state=None, ...))])</pre><b>In a Jupyter environment, please rerun this cell to show the HTML representation or trust the notebook. <br />On GitHub, the HTML representation is unable to render, please try loading this page with nbviewer.org.</b></div><div class=\"sk-container\" hidden><div class=\"sk-item sk-dashed-wrapped\"><div class=\"sk-label-container\"><div class=\"sk-label sk-toggleable\"><input class=\"sk-toggleable__control sk-hidden--visually\" id=\"sk-estimator-id-56\" type=\"checkbox\" ><label for=\"sk-estimator-id-56\" class=\"sk-toggleable__label sk-toggleable__label-arrow\">Pipeline</label><div class=\"sk-toggleable__content\"><pre>Pipeline(steps=[(&#x27;ohe_and_scaling&#x27;,\n",
       "                 ColumnTransformer(remainder=&#x27;passthrough&#x27;,\n",
       "                                   transformers=[(&#x27;ohe&#x27;,\n",
       "                                                  OneHotEncoder(handle_unknown=&#x27;ignore&#x27;,\n",
       "                                                                sparse_output=False),\n",
       "                                                  [&#x27;Sex&#x27;, &#x27;Pclass&#x27;, &#x27;SibSp&#x27;,\n",
       "                                                   &#x27;Parch&#x27;, &#x27;Cabin&#x27;,\n",
       "                                                   &#x27;Embarked&#x27;]),\n",
       "                                                 (&#x27;scaling&#x27;, StandardScaler(),\n",
       "                                                  [&#x27;Age&#x27;, &#x27;Fare&#x27;])])),\n",
       "                (&#x27;LogisticRegression&#x27;,\n",
       "                 XGBClassifier(base_score=None, booster=None, callbacks=None,\n",
       "                               colsample_byl...\n",
       "                               feature_types=None, gamma=None, grow_policy=None,\n",
       "                               importance_type=None,\n",
       "                               interaction_constraints=None, learning_rate=None,\n",
       "                               max_bin=None, max_cat_threshold=None,\n",
       "                               max_cat_to_onehot=None, max_delta_step=None,\n",
       "                               max_depth=None, max_leaves=None,\n",
       "                               min_child_weight=None, missing=nan,\n",
       "                               monotone_constraints=None, multi_strategy=None,\n",
       "                               n_estimators=15, n_jobs=None,\n",
       "                               num_parallel_tree=None, random_state=None, ...))])</pre></div></div></div><div class=\"sk-serial\"><div class=\"sk-item sk-dashed-wrapped\"><div class=\"sk-label-container\"><div class=\"sk-label sk-toggleable\"><input class=\"sk-toggleable__control sk-hidden--visually\" id=\"sk-estimator-id-57\" type=\"checkbox\" ><label for=\"sk-estimator-id-57\" class=\"sk-toggleable__label sk-toggleable__label-arrow\">ohe_and_scaling: ColumnTransformer</label><div class=\"sk-toggleable__content\"><pre>ColumnTransformer(remainder=&#x27;passthrough&#x27;,\n",
       "                  transformers=[(&#x27;ohe&#x27;,\n",
       "                                 OneHotEncoder(handle_unknown=&#x27;ignore&#x27;,\n",
       "                                               sparse_output=False),\n",
       "                                 [&#x27;Sex&#x27;, &#x27;Pclass&#x27;, &#x27;SibSp&#x27;, &#x27;Parch&#x27;, &#x27;Cabin&#x27;,\n",
       "                                  &#x27;Embarked&#x27;]),\n",
       "                                (&#x27;scaling&#x27;, StandardScaler(), [&#x27;Age&#x27;, &#x27;Fare&#x27;])])</pre></div></div></div><div class=\"sk-parallel\"><div class=\"sk-parallel-item\"><div class=\"sk-item\"><div class=\"sk-label-container\"><div class=\"sk-label sk-toggleable\"><input class=\"sk-toggleable__control sk-hidden--visually\" id=\"sk-estimator-id-58\" type=\"checkbox\" ><label for=\"sk-estimator-id-58\" class=\"sk-toggleable__label sk-toggleable__label-arrow\">ohe</label><div class=\"sk-toggleable__content\"><pre>[&#x27;Sex&#x27;, &#x27;Pclass&#x27;, &#x27;SibSp&#x27;, &#x27;Parch&#x27;, &#x27;Cabin&#x27;, &#x27;Embarked&#x27;]</pre></div></div></div><div class=\"sk-serial\"><div class=\"sk-item\"><div class=\"sk-estimator sk-toggleable\"><input class=\"sk-toggleable__control sk-hidden--visually\" id=\"sk-estimator-id-59\" type=\"checkbox\" ><label for=\"sk-estimator-id-59\" class=\"sk-toggleable__label sk-toggleable__label-arrow\">OneHotEncoder</label><div class=\"sk-toggleable__content\"><pre>OneHotEncoder(handle_unknown=&#x27;ignore&#x27;, sparse_output=False)</pre></div></div></div></div></div></div><div class=\"sk-parallel-item\"><div class=\"sk-item\"><div class=\"sk-label-container\"><div class=\"sk-label sk-toggleable\"><input class=\"sk-toggleable__control sk-hidden--visually\" id=\"sk-estimator-id-60\" type=\"checkbox\" ><label for=\"sk-estimator-id-60\" class=\"sk-toggleable__label sk-toggleable__label-arrow\">scaling</label><div class=\"sk-toggleable__content\"><pre>[&#x27;Age&#x27;, &#x27;Fare&#x27;]</pre></div></div></div><div class=\"sk-serial\"><div class=\"sk-item\"><div class=\"sk-estimator sk-toggleable\"><input class=\"sk-toggleable__control sk-hidden--visually\" id=\"sk-estimator-id-61\" type=\"checkbox\" ><label for=\"sk-estimator-id-61\" class=\"sk-toggleable__label sk-toggleable__label-arrow\">StandardScaler</label><div class=\"sk-toggleable__content\"><pre>StandardScaler()</pre></div></div></div></div></div></div><div class=\"sk-parallel-item\"><div class=\"sk-item\"><div class=\"sk-label-container\"><div class=\"sk-label sk-toggleable\"><input class=\"sk-toggleable__control sk-hidden--visually\" id=\"sk-estimator-id-62\" type=\"checkbox\" ><label for=\"sk-estimator-id-62\" class=\"sk-toggleable__label sk-toggleable__label-arrow\">remainder</label><div class=\"sk-toggleable__content\"><pre>[]</pre></div></div></div><div class=\"sk-serial\"><div class=\"sk-item\"><div class=\"sk-estimator sk-toggleable\"><input class=\"sk-toggleable__control sk-hidden--visually\" id=\"sk-estimator-id-63\" type=\"checkbox\" ><label for=\"sk-estimator-id-63\" class=\"sk-toggleable__label sk-toggleable__label-arrow\">passthrough</label><div class=\"sk-toggleable__content\"><pre>passthrough</pre></div></div></div></div></div></div></div></div><div class=\"sk-item\"><div class=\"sk-estimator sk-toggleable\"><input class=\"sk-toggleable__control sk-hidden--visually\" id=\"sk-estimator-id-64\" type=\"checkbox\" ><label for=\"sk-estimator-id-64\" class=\"sk-toggleable__label sk-toggleable__label-arrow\">XGBClassifier</label><div class=\"sk-toggleable__content\"><pre>XGBClassifier(base_score=None, booster=None, callbacks=None,\n",
       "              colsample_bylevel=None, colsample_bynode=None,\n",
       "              colsample_bytree=None, device=None, early_stopping_rounds=None,\n",
       "              enable_categorical=False, eval_metric=None, feature_types=None,\n",
       "              gamma=None, grow_policy=None, importance_type=None,\n",
       "              interaction_constraints=None, learning_rate=None, max_bin=None,\n",
       "              max_cat_threshold=None, max_cat_to_onehot=None,\n",
       "              max_delta_step=None, max_depth=None, max_leaves=None,\n",
       "              min_child_weight=None, missing=nan, monotone_constraints=None,\n",
       "              multi_strategy=None, n_estimators=15, n_jobs=None,\n",
       "              num_parallel_tree=None, random_state=None, ...)</pre></div></div></div></div></div></div></div>"
      ],
      "text/plain": [
       "Pipeline(steps=[('ohe_and_scaling',\n",
       "                 ColumnTransformer(remainder='passthrough',\n",
       "                                   transformers=[('ohe',\n",
       "                                                  OneHotEncoder(handle_unknown='ignore',\n",
       "                                                                sparse_output=False),\n",
       "                                                  ['Sex', 'Pclass', 'SibSp',\n",
       "                                                   'Parch', 'Cabin',\n",
       "                                                   'Embarked']),\n",
       "                                                 ('scaling', StandardScaler(),\n",
       "                                                  ['Age', 'Fare'])])),\n",
       "                ('LogisticRegression',\n",
       "                 XGBClassifier(base_score=None, booster=None, callbacks=None,\n",
       "                               colsample_byl...\n",
       "                               feature_types=None, gamma=None, grow_policy=None,\n",
       "                               importance_type=None,\n",
       "                               interaction_constraints=None, learning_rate=None,\n",
       "                               max_bin=None, max_cat_threshold=None,\n",
       "                               max_cat_to_onehot=None, max_delta_step=None,\n",
       "                               max_depth=None, max_leaves=None,\n",
       "                               min_child_weight=None, missing=nan,\n",
       "                               monotone_constraints=None, multi_strategy=None,\n",
       "                               n_estimators=15, n_jobs=None,\n",
       "                               num_parallel_tree=None, random_state=None, ...))])"
      ]
     },
     "execution_count": 236,
     "metadata": {},
     "output_type": "execute_result"
    }
   ],
   "source": [
    "# xgboost\n",
    "\n",
    "param_dist = {\n",
    "    'objective':'binary:logistic',\n",
    "    'n_estimators' : 15\n",
    "}\n",
    "\n",
    "xgboost_classifier = Pipeline(\n",
    "    steps=[\n",
    "        (\"ohe_and_scaling\", column_transformer),\n",
    "        (\"LogisticRegression\", xgb.XGBClassifier(**param_dist),),]\n",
    ")\n",
    "\n",
    "xgboost_classifier.fit(X_train, y_train)"
   ]
  },
  {
   "cell_type": "code",
   "execution_count": 237,
   "metadata": {
    "execution": {
     "iopub.execute_input": "2024-12-07T23:39:15.006412Z",
     "iopub.status.busy": "2024-12-07T23:39:15.005638Z",
     "iopub.status.idle": "2024-12-07T23:39:15.022387Z",
     "shell.execute_reply": "2024-12-07T23:39:15.019855Z",
     "shell.execute_reply.started": "2024-12-07T23:39:15.006370Z"
    }
   },
   "outputs": [
    {
     "name": "stdout",
     "output_type": "stream",
     "text": [
      "CPU times: user 9.59 ms, sys: 1.01 ms, total: 10.6 ms\n",
      "Wall time: 9.52 ms\n"
     ]
    }
   ],
   "source": [
    "%%time\n",
    "y_pred_xgb = xgboost_classifier.predict(X_test)"
   ]
  },
  {
   "cell_type": "code",
   "execution_count": 238,
   "metadata": {
    "execution": {
     "iopub.execute_input": "2024-12-07T23:39:15.182308Z",
     "iopub.status.busy": "2024-12-07T23:39:15.181647Z",
     "iopub.status.idle": "2024-12-07T23:39:15.208916Z",
     "shell.execute_reply": "2024-12-07T23:39:15.207871Z",
     "shell.execute_reply.started": "2024-12-07T23:39:15.182271Z"
    }
   },
   "outputs": [
    {
     "data": {
      "text/html": [
       "<div>\n",
       "<style scoped>\n",
       "    .dataframe tbody tr th:only-of-type {\n",
       "        vertical-align: middle;\n",
       "    }\n",
       "\n",
       "    .dataframe tbody tr th {\n",
       "        vertical-align: top;\n",
       "    }\n",
       "\n",
       "    .dataframe thead th {\n",
       "        text-align: right;\n",
       "    }\n",
       "</style>\n",
       "<table border=\"1\" class=\"dataframe\">\n",
       "  <thead>\n",
       "    <tr style=\"text-align: right;\">\n",
       "      <th></th>\n",
       "      <th>True Positive</th>\n",
       "      <th>True Negative</th>\n",
       "      <th>False Positive</th>\n",
       "      <th>False Negative</th>\n",
       "      <th>Negative Predictive Value</th>\n",
       "      <th>False Positive Rate</th>\n",
       "      <th>False Discovery Rate</th>\n",
       "      <th>accuracy</th>\n",
       "      <th>precision</th>\n",
       "      <th>recall</th>\n",
       "      <th>f1</th>\n",
       "    </tr>\n",
       "  </thead>\n",
       "  <tbody>\n",
       "    <tr>\n",
       "      <th>xgboost</th>\n",
       "      <td>45</td>\n",
       "      <td>97</td>\n",
       "      <td>13</td>\n",
       "      <td>24</td>\n",
       "      <td>0.801653</td>\n",
       "      <td>0.118182</td>\n",
       "      <td>0.347826</td>\n",
       "      <td>0.793296</td>\n",
       "      <td>0.775862</td>\n",
       "      <td>0.652174</td>\n",
       "      <td>0.708661</td>\n",
       "    </tr>\n",
       "  </tbody>\n",
       "</table>\n",
       "</div>"
      ],
      "text/plain": [
       "         True Positive  True Negative  False Positive  False Negative  \\\n",
       "xgboost             45             97              13              24   \n",
       "\n",
       "         Negative Predictive Value  False Positive Rate  False Discovery Rate  \\\n",
       "xgboost                   0.801653             0.118182              0.347826   \n",
       "\n",
       "         accuracy  precision    recall        f1  \n",
       "xgboost  0.793296   0.775862  0.652174  0.708661  "
      ]
     },
     "execution_count": 238,
     "metadata": {},
     "output_type": "execute_result"
    }
   ],
   "source": [
    "xgb_metrics = calculate_metrics('xgboost',np.array(y_pred_xgb),y_test)\n",
    "xgb_metrics"
   ]
  },
  {
   "cell_type": "code",
   "execution_count": 241,
   "metadata": {
    "execution": {
     "iopub.execute_input": "2024-12-07T23:44:30.574159Z",
     "iopub.status.busy": "2024-12-07T23:44:30.573736Z",
     "iopub.status.idle": "2024-12-07T23:44:30.591234Z",
     "shell.execute_reply": "2024-12-07T23:44:30.590068Z",
     "shell.execute_reply.started": "2024-12-07T23:44:30.574124Z"
    }
   },
   "outputs": [
    {
     "data": {
      "text/html": [
       "<div>\n",
       "<style scoped>\n",
       "    .dataframe tbody tr th:only-of-type {\n",
       "        vertical-align: middle;\n",
       "    }\n",
       "\n",
       "    .dataframe tbody tr th {\n",
       "        vertical-align: top;\n",
       "    }\n",
       "\n",
       "    .dataframe thead th {\n",
       "        text-align: right;\n",
       "    }\n",
       "</style>\n",
       "<table border=\"1\" class=\"dataframe\">\n",
       "  <thead>\n",
       "    <tr style=\"text-align: right;\">\n",
       "      <th></th>\n",
       "      <th>True Positive</th>\n",
       "      <th>True Negative</th>\n",
       "      <th>False Positive</th>\n",
       "      <th>False Negative</th>\n",
       "      <th>Negative Predictive Value</th>\n",
       "      <th>False Positive Rate</th>\n",
       "      <th>False Discovery Rate</th>\n",
       "      <th>accuracy</th>\n",
       "      <th>precision</th>\n",
       "      <th>recall</th>\n",
       "      <th>f1</th>\n",
       "    </tr>\n",
       "  </thead>\n",
       "  <tbody>\n",
       "    <tr>\n",
       "      <th>fca</th>\n",
       "      <td>41</td>\n",
       "      <td>98</td>\n",
       "      <td>12</td>\n",
       "      <td>28</td>\n",
       "      <td>0.777778</td>\n",
       "      <td>0.109091</td>\n",
       "      <td>0.405797</td>\n",
       "      <td>0.776536</td>\n",
       "      <td>0.773585</td>\n",
       "      <td>0.594203</td>\n",
       "      <td>0.672131</td>\n",
       "    </tr>\n",
       "    <tr>\n",
       "      <th>knn</th>\n",
       "      <td>46</td>\n",
       "      <td>94</td>\n",
       "      <td>16</td>\n",
       "      <td>23</td>\n",
       "      <td>0.803419</td>\n",
       "      <td>0.145455</td>\n",
       "      <td>0.333333</td>\n",
       "      <td>0.782123</td>\n",
       "      <td>0.741935</td>\n",
       "      <td>0.666667</td>\n",
       "      <td>0.702290</td>\n",
       "    </tr>\n",
       "    <tr>\n",
       "      <th>decision tree</th>\n",
       "      <td>47</td>\n",
       "      <td>93</td>\n",
       "      <td>17</td>\n",
       "      <td>22</td>\n",
       "      <td>0.808696</td>\n",
       "      <td>0.154545</td>\n",
       "      <td>0.318841</td>\n",
       "      <td>0.782123</td>\n",
       "      <td>0.734375</td>\n",
       "      <td>0.681159</td>\n",
       "      <td>0.706767</td>\n",
       "    </tr>\n",
       "    <tr>\n",
       "      <th>logistic regression</th>\n",
       "      <td>48</td>\n",
       "      <td>98</td>\n",
       "      <td>12</td>\n",
       "      <td>21</td>\n",
       "      <td>0.823529</td>\n",
       "      <td>0.109091</td>\n",
       "      <td>0.304348</td>\n",
       "      <td>0.815642</td>\n",
       "      <td>0.800000</td>\n",
       "      <td>0.695652</td>\n",
       "      <td>0.744186</td>\n",
       "    </tr>\n",
       "    <tr>\n",
       "      <th>random forest</th>\n",
       "      <td>50</td>\n",
       "      <td>97</td>\n",
       "      <td>13</td>\n",
       "      <td>19</td>\n",
       "      <td>0.836207</td>\n",
       "      <td>0.118182</td>\n",
       "      <td>0.275362</td>\n",
       "      <td>0.821229</td>\n",
       "      <td>0.793651</td>\n",
       "      <td>0.724638</td>\n",
       "      <td>0.757576</td>\n",
       "    </tr>\n",
       "    <tr>\n",
       "      <th>xgboost</th>\n",
       "      <td>45</td>\n",
       "      <td>97</td>\n",
       "      <td>13</td>\n",
       "      <td>24</td>\n",
       "      <td>0.801653</td>\n",
       "      <td>0.118182</td>\n",
       "      <td>0.347826</td>\n",
       "      <td>0.793296</td>\n",
       "      <td>0.775862</td>\n",
       "      <td>0.652174</td>\n",
       "      <td>0.708661</td>\n",
       "    </tr>\n",
       "  </tbody>\n",
       "</table>\n",
       "</div>"
      ],
      "text/plain": [
       "                     True Positive  True Negative  False Positive  \\\n",
       "fca                             41             98              12   \n",
       "knn                             46             94              16   \n",
       "decision tree                   47             93              17   \n",
       "logistic regression             48             98              12   \n",
       "random forest                   50             97              13   \n",
       "xgboost                         45             97              13   \n",
       "\n",
       "                     False Negative  Negative Predictive Value  \\\n",
       "fca                              28                   0.777778   \n",
       "knn                              23                   0.803419   \n",
       "decision tree                    22                   0.808696   \n",
       "logistic regression              21                   0.823529   \n",
       "random forest                    19                   0.836207   \n",
       "xgboost                          24                   0.801653   \n",
       "\n",
       "                     False Positive Rate  False Discovery Rate  accuracy  \\\n",
       "fca                             0.109091              0.405797  0.776536   \n",
       "knn                             0.145455              0.333333  0.782123   \n",
       "decision tree                   0.154545              0.318841  0.782123   \n",
       "logistic regression             0.109091              0.304348  0.815642   \n",
       "random forest                   0.118182              0.275362  0.821229   \n",
       "xgboost                         0.118182              0.347826  0.793296   \n",
       "\n",
       "                     precision    recall        f1  \n",
       "fca                   0.773585  0.594203  0.672131  \n",
       "knn                   0.741935  0.666667  0.702290  \n",
       "decision tree         0.734375  0.681159  0.706767  \n",
       "logistic regression   0.800000  0.695652  0.744186  \n",
       "random forest         0.793651  0.724638  0.757576  \n",
       "xgboost               0.775862  0.652174  0.708661  "
      ]
     },
     "execution_count": 241,
     "metadata": {},
     "output_type": "execute_result"
    }
   ],
   "source": [
    "metrics = pd.concat([\n",
    "    fca_metrics,\n",
    "    knn_metrics,\n",
    "    dt_metrics, \n",
    "    lr_metrics,\n",
    "    rf_metrics, \n",
    "    xgb_metrics\n",
    "], axis=0)\n",
    "metrics"
   ]
  }
 ],
 "metadata": {
  "kaggle": {
   "accelerator": "none",
   "dataSources": [
    {
     "datasetId": 6251539,
     "sourceId": 10129842,
     "sourceType": "datasetVersion"
    }
   ],
   "dockerImageVersionId": 30804,
   "isGpuEnabled": false,
   "isInternetEnabled": true,
   "language": "python",
   "sourceType": "notebook"
  },
  "kernelspec": {
   "display_name": "Python 3",
   "language": "python",
   "name": "python3"
  },
  "language_info": {
   "codemirror_mode": {
    "name": "ipython",
    "version": 3
   },
   "file_extension": ".py",
   "mimetype": "text/x-python",
   "name": "python",
   "nbconvert_exporter": "python",
   "pygments_lexer": "ipython3",
   "version": "3.8.5"
  }
 },
 "nbformat": 4,
 "nbformat_minor": 4
}
